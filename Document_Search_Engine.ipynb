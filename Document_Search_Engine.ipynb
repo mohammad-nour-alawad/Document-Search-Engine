{
  "cells": [
    {
      "cell_type": "markdown",
      "source": [
        "# **Ghfra Jabour - Mohammad Nour Alawad**\n",
        "\n",
        "\n",
        "> IR Project - Document Search Engine\n",
        "\n"
      ],
      "metadata": {
        "id": "Kb5SiBdvRilD"
      }
    },
    {
      "cell_type": "markdown",
      "metadata": {
        "id": "RsK3L1JlhNon"
      },
      "source": [
        "# Document Search Engine "
      ]
    },
    {
      "cell_type": "code",
      "execution_count": null,
      "metadata": {
        "id": "42WhrMSvhNop"
      },
      "outputs": [],
      "source": [
        "import pandas as pd\n",
        "import numpy as np\n",
        "import os \n",
        "import re\n",
        "import operator\n",
        "import pickle\n",
        "from nltk.tokenize import word_tokenize\n",
        "from nltk import pos_tag\n",
        "from nltk.corpus import stopwords\n",
        "from nltk.stem import WordNetLemmatizer\n",
        "from collections import defaultdict\n",
        "from nltk.corpus import wordnet as wn\n",
        "from sklearn.feature_extraction.text import TfidfVectorizer"
      ]
    },
    {
      "cell_type": "code",
      "source": [
        "import nltk \n",
        "nltk.download('punkt')\n",
        "nltk.download('wordnet')\n",
        "nltk.download('averaged_perceptron_tagger')\n",
        "nltk.download('stopwords')"
      ],
      "metadata": {
        "id": "vR-dLILyitEC",
        "colab": {
          "base_uri": "https://localhost:8080/"
        },
        "outputId": "246da25c-ddcd-48e6-8afd-7b4953fdf2e9"
      },
      "execution_count": null,
      "outputs": [
        {
          "output_type": "stream",
          "name": "stdout",
          "text": [
            "[nltk_data] Downloading package punkt to /root/nltk_data...\n",
            "[nltk_data]   Unzipping tokenizers/punkt.zip.\n",
            "[nltk_data] Downloading package wordnet to /root/nltk_data...\n",
            "[nltk_data]   Unzipping corpora/wordnet.zip.\n",
            "[nltk_data] Downloading package averaged_perceptron_tagger to\n",
            "[nltk_data]     /root/nltk_data...\n",
            "[nltk_data]   Unzipping taggers/averaged_perceptron_tagger.zip.\n",
            "[nltk_data] Downloading package stopwords to /root/nltk_data...\n",
            "[nltk_data]   Unzipping corpora/stopwords.zip.\n"
          ]
        },
        {
          "output_type": "execute_result",
          "data": {
            "text/plain": [
              "True"
            ]
          },
          "metadata": {},
          "execution_count": 5
        }
      ]
    },
    {
      "cell_type": "code",
      "execution_count": null,
      "metadata": {
        "id": "t-WIOJFqhNor"
      },
      "outputs": [],
      "source": [
        "news = pd.read_json('https://raw.githubusercontent.com/zayedrais/DocumentSearchEngine/master/data/newsgroups.json')"
      ]
    },
    {
      "cell_type": "markdown",
      "metadata": {
        "id": "N4qhxV5OhNoq"
      },
      "source": [
        "## Data loading"
      ]
    },
    {
      "cell_type": "markdown",
      "metadata": {
        "id": "--lMwdzfhNor"
      },
      "source": [
        "### Document Subject retrieving form data"
      ]
    },
    {
      "cell_type": "code",
      "execution_count": null,
      "metadata": {
        "id": "zJiePQN8hNor"
      },
      "outputs": [],
      "source": [
        "for i,txt in enumerate(news['content']):\n",
        "    #print(i)\n",
        "    subject = re.findall('Subject:(.*\\n)',txt)\n",
        "    if (len(subject) !=0):\n",
        "        news.loc[i,'Subject'] =str(i)+' '+subject[0]\n",
        "    else:\n",
        "        news.loc[i,'Subject'] ='NA'"
      ]
    },
    {
      "cell_type": "code",
      "execution_count": null,
      "metadata": {
        "id": "rpdCBsCfhNos"
      },
      "outputs": [],
      "source": [
        "df_news =news[['Subject','content']]"
      ]
    },
    {
      "cell_type": "code",
      "source": [
        "df_news.head()"
      ],
      "metadata": {
        "colab": {
          "base_uri": "https://localhost:8080/",
          "height": 206
        },
        "id": "4U-VXal3q7uf",
        "outputId": "89fc8377-0307-4955-c364-39ef1889c618"
      },
      "execution_count": null,
      "outputs": [
        {
          "output_type": "execute_result",
          "data": {
            "text/html": [
              "\n",
              "  <div id=\"df-26520576-ce9c-40b9-b8e4-58f2943999f6\">\n",
              "    <div class=\"colab-df-container\">\n",
              "      <div>\n",
              "<style scoped>\n",
              "    .dataframe tbody tr th:only-of-type {\n",
              "        vertical-align: middle;\n",
              "    }\n",
              "\n",
              "    .dataframe tbody tr th {\n",
              "        vertical-align: top;\n",
              "    }\n",
              "\n",
              "    .dataframe thead th {\n",
              "        text-align: right;\n",
              "    }\n",
              "</style>\n",
              "<table border=\"1\" class=\"dataframe\">\n",
              "  <thead>\n",
              "    <tr style=\"text-align: right;\">\n",
              "      <th></th>\n",
              "      <th>Subject</th>\n",
              "      <th>content</th>\n",
              "    </tr>\n",
              "  </thead>\n",
              "  <tbody>\n",
              "    <tr>\n",
              "      <th>0</th>\n",
              "      <td>0  WHAT car is this!?\\n</td>\n",
              "      <td>From: lerxst@wam.umd.edu (where's my thing)\\nS...</td>\n",
              "    </tr>\n",
              "    <tr>\n",
              "      <th>1</th>\n",
              "      <td>1  SI Clock Poll - Final Call\\n</td>\n",
              "      <td>From: guykuo@carson.u.washington.edu (Guy Kuo)...</td>\n",
              "    </tr>\n",
              "    <tr>\n",
              "      <th>2</th>\n",
              "      <td>2  PB questions...\\n</td>\n",
              "      <td>From: twillis@ec.ecn.purdue.edu (Thomas E Will...</td>\n",
              "    </tr>\n",
              "    <tr>\n",
              "      <th>3</th>\n",
              "      <td>3  Re: Weitek P9000 ?\\n</td>\n",
              "      <td>From: jgreen@amber (Joe Green)\\nSubject: Re: W...</td>\n",
              "    </tr>\n",
              "    <tr>\n",
              "      <th>4</th>\n",
              "      <td>4  Re: Shuttle Launch Question\\n</td>\n",
              "      <td>From: jcm@head-cfa.harvard.edu (Jonathan McDow...</td>\n",
              "    </tr>\n",
              "  </tbody>\n",
              "</table>\n",
              "</div>\n",
              "      <button class=\"colab-df-convert\" onclick=\"convertToInteractive('df-26520576-ce9c-40b9-b8e4-58f2943999f6')\"\n",
              "              title=\"Convert this dataframe to an interactive table.\"\n",
              "              style=\"display:none;\">\n",
              "        \n",
              "  <svg xmlns=\"http://www.w3.org/2000/svg\" height=\"24px\"viewBox=\"0 0 24 24\"\n",
              "       width=\"24px\">\n",
              "    <path d=\"M0 0h24v24H0V0z\" fill=\"none\"/>\n",
              "    <path d=\"M18.56 5.44l.94 2.06.94-2.06 2.06-.94-2.06-.94-.94-2.06-.94 2.06-2.06.94zm-11 1L8.5 8.5l.94-2.06 2.06-.94-2.06-.94L8.5 2.5l-.94 2.06-2.06.94zm10 10l.94 2.06.94-2.06 2.06-.94-2.06-.94-.94-2.06-.94 2.06-2.06.94z\"/><path d=\"M17.41 7.96l-1.37-1.37c-.4-.4-.92-.59-1.43-.59-.52 0-1.04.2-1.43.59L10.3 9.45l-7.72 7.72c-.78.78-.78 2.05 0 2.83L4 21.41c.39.39.9.59 1.41.59.51 0 1.02-.2 1.41-.59l7.78-7.78 2.81-2.81c.8-.78.8-2.07 0-2.86zM5.41 20L4 18.59l7.72-7.72 1.47 1.35L5.41 20z\"/>\n",
              "  </svg>\n",
              "      </button>\n",
              "      \n",
              "  <style>\n",
              "    .colab-df-container {\n",
              "      display:flex;\n",
              "      flex-wrap:wrap;\n",
              "      gap: 12px;\n",
              "    }\n",
              "\n",
              "    .colab-df-convert {\n",
              "      background-color: #E8F0FE;\n",
              "      border: none;\n",
              "      border-radius: 50%;\n",
              "      cursor: pointer;\n",
              "      display: none;\n",
              "      fill: #1967D2;\n",
              "      height: 32px;\n",
              "      padding: 0 0 0 0;\n",
              "      width: 32px;\n",
              "    }\n",
              "\n",
              "    .colab-df-convert:hover {\n",
              "      background-color: #E2EBFA;\n",
              "      box-shadow: 0px 1px 2px rgba(60, 64, 67, 0.3), 0px 1px 3px 1px rgba(60, 64, 67, 0.15);\n",
              "      fill: #174EA6;\n",
              "    }\n",
              "\n",
              "    [theme=dark] .colab-df-convert {\n",
              "      background-color: #3B4455;\n",
              "      fill: #D2E3FC;\n",
              "    }\n",
              "\n",
              "    [theme=dark] .colab-df-convert:hover {\n",
              "      background-color: #434B5C;\n",
              "      box-shadow: 0px 1px 3px 1px rgba(0, 0, 0, 0.15);\n",
              "      filter: drop-shadow(0px 1px 2px rgba(0, 0, 0, 0.3));\n",
              "      fill: #FFFFFF;\n",
              "    }\n",
              "  </style>\n",
              "\n",
              "      <script>\n",
              "        const buttonEl =\n",
              "          document.querySelector('#df-26520576-ce9c-40b9-b8e4-58f2943999f6 button.colab-df-convert');\n",
              "        buttonEl.style.display =\n",
              "          google.colab.kernel.accessAllowed ? 'block' : 'none';\n",
              "\n",
              "        async function convertToInteractive(key) {\n",
              "          const element = document.querySelector('#df-26520576-ce9c-40b9-b8e4-58f2943999f6');\n",
              "          const dataTable =\n",
              "            await google.colab.kernel.invokeFunction('convertToInteractive',\n",
              "                                                     [key], {});\n",
              "          if (!dataTable) return;\n",
              "\n",
              "          const docLinkHtml = 'Like what you see? Visit the ' +\n",
              "            '<a target=\"_blank\" href=https://colab.research.google.com/notebooks/data_table.ipynb>data table notebook</a>'\n",
              "            + ' to learn more about interactive tables.';\n",
              "          element.innerHTML = '';\n",
              "          dataTable['output_type'] = 'display_data';\n",
              "          await google.colab.output.renderOutput(dataTable, element);\n",
              "          const docLink = document.createElement('div');\n",
              "          docLink.innerHTML = docLinkHtml;\n",
              "          element.appendChild(docLink);\n",
              "        }\n",
              "      </script>\n",
              "    </div>\n",
              "  </div>\n",
              "  "
            ],
            "text/plain": [
              "                            Subject  \\\n",
              "0           0  WHAT car is this!?\\n   \n",
              "1   1  SI Clock Poll - Final Call\\n   \n",
              "2              2  PB questions...\\n   \n",
              "3           3  Re: Weitek P9000 ?\\n   \n",
              "4  4  Re: Shuttle Launch Question\\n   \n",
              "\n",
              "                                             content  \n",
              "0  From: lerxst@wam.umd.edu (where's my thing)\\nS...  \n",
              "1  From: guykuo@carson.u.washington.edu (Guy Kuo)...  \n",
              "2  From: twillis@ec.ecn.purdue.edu (Thomas E Will...  \n",
              "3  From: jgreen@amber (Joe Green)\\nSubject: Re: W...  \n",
              "4  From: jcm@head-cfa.harvard.edu (Jonathan McDow...  "
            ]
          },
          "metadata": {},
          "execution_count": 9
        }
      ]
    },
    {
      "cell_type": "markdown",
      "metadata": {
        "id": "1Drxs-dMhNos"
      },
      "source": [
        "## Data Cleaning and Pre-processing"
      ]
    },
    {
      "cell_type": "code",
      "execution_count": null,
      "metadata": {
        "colab": {
          "base_uri": "https://localhost:8080/"
        },
        "id": "c9De-D5JhNot",
        "outputId": "60b72419-9cc4-4ef8-f7db-59f24914dc54"
      },
      "outputs": [
        {
          "output_type": "stream",
          "name": "stderr",
          "text": [
            "/usr/local/lib/python3.7/dist-packages/ipykernel_launcher.py:2: SettingWithCopyWarning: \n",
            "A value is trying to be set on a copy of a slice from a DataFrame.\n",
            "Try using .loc[row_indexer,col_indexer] = value instead\n",
            "\n",
            "See the caveats in the documentation: https://pandas.pydata.org/pandas-docs/stable/user_guide/indexing.html#returning-a-view-versus-a-copy\n",
            "  \n"
          ]
        }
      ],
      "source": [
        "# Change all the text to lower case. This is required as python interprets 'dog' and 'DOG' differently\n",
        "df_news['content']=[entry.lower() for entry in df_news['content']]"
      ]
    },
    {
      "cell_type": "code",
      "execution_count": null,
      "metadata": {
        "id": "7_VrqaXQhNou"
      },
      "outputs": [],
      "source": [
        "SW=['subject:','organization:','thanks','thank','re:']"
      ]
    },
    {
      "cell_type": "code",
      "execution_count": null,
      "metadata": {
        "colab": {
          "base_uri": "https://localhost:8080/"
        },
        "id": "uuTByYshhNou",
        "outputId": "8ed6c7d4-10af-49c1-8b0c-53ac12f4a801"
      },
      "outputs": [
        {
          "output_type": "stream",
          "name": "stderr",
          "text": [
            "/usr/local/lib/python3.7/dist-packages/pandas/core/generic.py:5516: SettingWithCopyWarning: \n",
            "A value is trying to be set on a copy of a slice from a DataFrame.\n",
            "Try using .loc[row_indexer,col_indexer] = value instead\n",
            "\n",
            "See the caveats in the documentation: https://pandas.pydata.org/pandas-docs/stable/user_guide/indexing.html#returning-a-view-versus-a-copy\n",
            "  self[name] = value\n"
          ]
        }
      ],
      "source": [
        "for sw in SW:\n",
        "    df_news.content=df_news.content.replace(to_replace=sw,value='',regex=True)"
      ]
    },
    {
      "cell_type": "code",
      "execution_count": null,
      "metadata": {
        "colab": {
          "base_uri": "https://localhost:8080/"
        },
        "id": "ewvLy-DPhNov",
        "outputId": "941d3974-213a-46c4-c918-2d019c45c977"
      },
      "outputs": [
        {
          "output_type": "stream",
          "name": "stderr",
          "text": [
            "/usr/local/lib/python3.7/dist-packages/pandas/core/generic.py:5516: SettingWithCopyWarning: \n",
            "A value is trying to be set on a copy of a slice from a DataFrame.\n",
            "Try using .loc[row_indexer,col_indexer] = value instead\n",
            "\n",
            "See the caveats in the documentation: https://pandas.pydata.org/pandas-docs/stable/user_guide/indexing.html#returning-a-view-versus-a-copy\n",
            "  self[name] = value\n"
          ]
        }
      ],
      "source": [
        "## data Cleaning for content data of news\n",
        "df_news.content =df_news.content.replace(to_replace='from:(.*\\n)',value='',regex=True) #remove from to email \n",
        "df_news.content =df_news.content.replace(to_replace='lines:(.*\\n)',value='',regex=True)\n",
        "df_news.content =df_news.content.replace(to_replace='[!\"#$%&\\'()*+,/:;<=>?@[\\\\]^_`{|}~]',value=' ',regex=True) #remove punctuation except\n",
        "df_news.content =df_news.content.replace(to_replace='-',value=' ',regex=True)\n",
        "df_news.content =df_news.content.replace(to_replace='\\s+',value=' ',regex=True)    #remove new line\n",
        "df_news.content =df_news.content.replace(to_replace='  ',value='',regex=True)                #remove double white space\n",
        "df_news.content =df_news.content.apply(lambda x:x.strip())  # Ltrim and Rtrim of whitespace"
      ]
    },
    {
      "cell_type": "code",
      "execution_count": null,
      "metadata": {
        "colab": {
          "base_uri": "https://localhost:8080/"
        },
        "id": "xS_vEPRWhNov",
        "outputId": "13fe6a6e-3556-4171-c535-6c4a75950c8f"
      },
      "outputs": [
        {
          "output_type": "stream",
          "name": "stderr",
          "text": [
            "/usr/local/lib/python3.7/dist-packages/pandas/core/generic.py:5516: SettingWithCopyWarning: \n",
            "A value is trying to be set on a copy of a slice from a DataFrame.\n",
            "Try using .loc[row_indexer,col_indexer] = value instead\n",
            "\n",
            "See the caveats in the documentation: https://pandas.pydata.org/pandas-docs/stable/user_guide/indexing.html#returning-a-view-versus-a-copy\n",
            "  self[name] = value\n"
          ]
        }
      ],
      "source": [
        "## data cleaning for subject data \n",
        "df_news.Subject =df_news.Subject.replace(to_replace='Re:',value='',regex=True)\n",
        "df_news.Subject =df_news.Subject.replace(to_replace='[!\"#$%&\\'()*+,-./:;<=>?@[\\\\]^_`{|}~]',value=' ',regex=True)\n",
        "df_news.Subject =df_news.Subject.replace(to_replace='\\s+',value=' ',regex=True)    #remove new line\n",
        "df_news.Subject =df_news.Subject.replace(to_replace='  ',value='',regex=True)    #remove double white space\n",
        "df_news.Subject =df_news.Subject.apply(lambda x:x.strip())"
      ]
    },
    {
      "cell_type": "markdown",
      "metadata": {
        "id": "QV2pgwtIhNow"
      },
      "source": [
        "### Checking  and dropempty data rows"
      ]
    },
    {
      "cell_type": "code",
      "execution_count": null,
      "metadata": {
        "id": "5C8I1pVzhNow"
      },
      "outputs": [],
      "source": [
        "## ## Checking  and drop empty data\n",
        "for i,sen in enumerate(df_news.content):\n",
        "    if len(sen.strip()) ==0:\n",
        "        print(str(i))\n",
        "        #file_data.text[i] = np.nan\n",
        "        df_news=df_news.drop(str(i),axis=0).reset_index().drop('index',axis=1)"
      ]
    },
    {
      "cell_type": "markdown",
      "metadata": {
        "id": "Z0EOTmfLhNow"
      },
      "source": [
        "### Word Tokenization"
      ]
    },
    {
      "cell_type": "code",
      "execution_count": null,
      "metadata": {
        "colab": {
          "base_uri": "https://localhost:8080/"
        },
        "id": "5qVGQ6--hNow",
        "outputId": "05652c9a-d8f6-474d-b0db-a674985958fc"
      },
      "outputs": [
        {
          "output_type": "stream",
          "name": "stderr",
          "text": [
            "/usr/local/lib/python3.7/dist-packages/ipykernel_launcher.py:2: SettingWithCopyWarning: \n",
            "A value is trying to be set on a copy of a slice from a DataFrame.\n",
            "Try using .loc[row_indexer,col_indexer] = value instead\n",
            "\n",
            "See the caveats in the documentation: https://pandas.pydata.org/pandas-docs/stable/user_guide/indexing.html#returning-a-view-versus-a-copy\n",
            "  \n"
          ]
        }
      ],
      "source": [
        "# tokenization : In this each entry in the file_data will be broken into set of words\n",
        "df_news['Word tokenize']= [word_tokenize(entry) for entry in df_news.content]"
      ]
    },
    {
      "cell_type": "markdown",
      "metadata": {
        "id": "9M89ujmxhNox"
      },
      "source": [
        "### Word Lemmatization"
      ]
    },
    {
      "cell_type": "code",
      "execution_count": null,
      "metadata": {
        "id": "OB9oyT_qhNox"
      },
      "outputs": [],
      "source": [
        "# WordNetLemmatizer requires Pos tags to understand if the word is noun or verb or adjective etc. By default it is set to Noun\n",
        "def wordLemmatizer(data):\n",
        "    tag_map = defaultdict(lambda : wn.NOUN)\n",
        "    tag_map['J'] = wn.ADJ\n",
        "    tag_map['V'] = wn.VERB\n",
        "    tag_map['R'] = wn.ADV\n",
        "    file_clean_k =pd.DataFrame()\n",
        "    for index,entry in enumerate(data):\n",
        "        # Declaring Empty List to store the words that follow the rules for this step\n",
        "        Final_words = []\n",
        "        # Initializing WordNetLemmatizer()\n",
        "        word_Lemmatized = WordNetLemmatizer()\n",
        "        # pos_tag function below will provide the 'tag' i.e if the word is Noun(N) or Verb(V) or something else.\n",
        "        for word, tag in pos_tag(entry):\n",
        "            # Below condition is to check for Stop words and consider only alphabets\n",
        "            if len(word)>1 and word not in stopwords.words('english') and word.isalpha():\n",
        "                word_Final = word_Lemmatized.lemmatize(word,tag_map[tag[0]])\n",
        "                #print(tag)\n",
        "                Final_words.append(word_Final)\n",
        "            # The final processed set of words for each iteration will be stored in 'text_final'\n",
        "                file_clean_k.loc[index,'Keyword_final'] = str(Final_words)\n",
        "                #file_clean_k=file_clean_k.replace(to_replace =\"\\[.\", value = '', regex = True)\n",
        "                #file_clean_k=file_clean_k.replace(to_replace =\"'\", value = '', regex = True)\n",
        "                #file_clean_k=file_clean_k.replace(to_replace =\" \", value = '', regex = True)\n",
        "                #file_clean_k=file_clean_k.replace(to_replace ='\\]', value = '', regex = True)\n",
        "    return file_clean_k"
      ]
    },
    {
      "cell_type": "code",
      "execution_count": null,
      "metadata": {
        "colab": {
          "base_uri": "https://localhost:8080/"
        },
        "id": "PLOUOHN9hNox",
        "outputId": "4853f313-f061-4e3e-edcb-ebc555e01760"
      },
      "outputs": [
        {
          "output_type": "execute_result",
          "data": {
            "text/plain": [
              "(11314, 3)"
            ]
          },
          "metadata": {},
          "execution_count": 18
        }
      ],
      "source": [
        "df_news.shape "
      ]
    },
    {
      "cell_type": "code",
      "source": [
        "## This Function took around 13 hours for word Lemmatized and remove the Stop words & single character of word of each 11314 rows.\n",
        "df_clean = wordLemmatizer(df_news['Word tokenize'][0:10]) \n",
        "df_clean.head(10)"
      ],
      "metadata": {
        "id": "r_jpRrOXvZkY",
        "colab": {
          "base_uri": "https://localhost:8080/",
          "height": 363
        },
        "outputId": "39921caa-4dea-4655-dcfd-0c06e36af7f2"
      },
      "execution_count": null,
      "outputs": [
        {
          "output_type": "execute_result",
          "data": {
            "text/html": [
              "\n",
              "  <div id=\"df-37ac42cf-420f-4f85-a805-0ecc1e53ef54\">\n",
              "    <div class=\"colab-df-container\">\n",
              "      <div>\n",
              "<style scoped>\n",
              "    .dataframe tbody tr th:only-of-type {\n",
              "        vertical-align: middle;\n",
              "    }\n",
              "\n",
              "    .dataframe tbody tr th {\n",
              "        vertical-align: top;\n",
              "    }\n",
              "\n",
              "    .dataframe thead th {\n",
              "        text-align: right;\n",
              "    }\n",
              "</style>\n",
              "<table border=\"1\" class=\"dataframe\">\n",
              "  <thead>\n",
              "    <tr style=\"text-align: right;\">\n",
              "      <th></th>\n",
              "      <th>Keyword_final</th>\n",
              "    </tr>\n",
              "  </thead>\n",
              "  <tbody>\n",
              "    <tr>\n",
              "      <th>0</th>\n",
              "      <td>['car', 'nntp', 'post', 'host', 'university', ...</td>\n",
              "    </tr>\n",
              "    <tr>\n",
              "      <th>1</th>\n",
              "      <td>['si', 'clock', 'poll', 'final', 'call', 'summ...</td>\n",
              "    </tr>\n",
              "    <tr>\n",
              "      <th>2</th>\n",
              "      <td>['pb', 'question', 'purdue', 'university', 'en...</td>\n",
              "    </tr>\n",
              "    <tr>\n",
              "      <th>3</th>\n",
              "      <td>['weitek', 'harris', 'computer', 'system', 'di...</td>\n",
              "    </tr>\n",
              "    <tr>\n",
              "      <th>4</th>\n",
              "      <td>['shuttle', 'launch', 'question', 'smithsonian...</td>\n",
              "    </tr>\n",
              "    <tr>\n",
              "      <th>5</th>\n",
              "      <td>['reword', 'second', 'amendment', 'idea', 'vtt...</td>\n",
              "    </tr>\n",
              "    <tr>\n",
              "      <th>6</th>\n",
              "      <td>['brain', 'tumor', 'treatment', 'reply', 'bmde...</td>\n",
              "    </tr>\n",
              "    <tr>\n",
              "      <th>7</th>\n",
              "      <td>['ide', 'vs', 'scsi', 'new', 'mexico', 'state'...</td>\n",
              "    </tr>\n",
              "    <tr>\n",
              "      <th>8</th>\n",
              "      <td>['win', 'icon', 'help', 'please', 'university'...</td>\n",
              "    </tr>\n",
              "    <tr>\n",
              "      <th>9</th>\n",
              "      <td>['sigma', 'design', 'double', 'article', 'univ...</td>\n",
              "    </tr>\n",
              "  </tbody>\n",
              "</table>\n",
              "</div>\n",
              "      <button class=\"colab-df-convert\" onclick=\"convertToInteractive('df-37ac42cf-420f-4f85-a805-0ecc1e53ef54')\"\n",
              "              title=\"Convert this dataframe to an interactive table.\"\n",
              "              style=\"display:none;\">\n",
              "        \n",
              "  <svg xmlns=\"http://www.w3.org/2000/svg\" height=\"24px\"viewBox=\"0 0 24 24\"\n",
              "       width=\"24px\">\n",
              "    <path d=\"M0 0h24v24H0V0z\" fill=\"none\"/>\n",
              "    <path d=\"M18.56 5.44l.94 2.06.94-2.06 2.06-.94-2.06-.94-.94-2.06-.94 2.06-2.06.94zm-11 1L8.5 8.5l.94-2.06 2.06-.94-2.06-.94L8.5 2.5l-.94 2.06-2.06.94zm10 10l.94 2.06.94-2.06 2.06-.94-2.06-.94-.94-2.06-.94 2.06-2.06.94z\"/><path d=\"M17.41 7.96l-1.37-1.37c-.4-.4-.92-.59-1.43-.59-.52 0-1.04.2-1.43.59L10.3 9.45l-7.72 7.72c-.78.78-.78 2.05 0 2.83L4 21.41c.39.39.9.59 1.41.59.51 0 1.02-.2 1.41-.59l7.78-7.78 2.81-2.81c.8-.78.8-2.07 0-2.86zM5.41 20L4 18.59l7.72-7.72 1.47 1.35L5.41 20z\"/>\n",
              "  </svg>\n",
              "      </button>\n",
              "      \n",
              "  <style>\n",
              "    .colab-df-container {\n",
              "      display:flex;\n",
              "      flex-wrap:wrap;\n",
              "      gap: 12px;\n",
              "    }\n",
              "\n",
              "    .colab-df-convert {\n",
              "      background-color: #E8F0FE;\n",
              "      border: none;\n",
              "      border-radius: 50%;\n",
              "      cursor: pointer;\n",
              "      display: none;\n",
              "      fill: #1967D2;\n",
              "      height: 32px;\n",
              "      padding: 0 0 0 0;\n",
              "      width: 32px;\n",
              "    }\n",
              "\n",
              "    .colab-df-convert:hover {\n",
              "      background-color: #E2EBFA;\n",
              "      box-shadow: 0px 1px 2px rgba(60, 64, 67, 0.3), 0px 1px 3px 1px rgba(60, 64, 67, 0.15);\n",
              "      fill: #174EA6;\n",
              "    }\n",
              "\n",
              "    [theme=dark] .colab-df-convert {\n",
              "      background-color: #3B4455;\n",
              "      fill: #D2E3FC;\n",
              "    }\n",
              "\n",
              "    [theme=dark] .colab-df-convert:hover {\n",
              "      background-color: #434B5C;\n",
              "      box-shadow: 0px 1px 3px 1px rgba(0, 0, 0, 0.15);\n",
              "      filter: drop-shadow(0px 1px 2px rgba(0, 0, 0, 0.3));\n",
              "      fill: #FFFFFF;\n",
              "    }\n",
              "  </style>\n",
              "\n",
              "      <script>\n",
              "        const buttonEl =\n",
              "          document.querySelector('#df-37ac42cf-420f-4f85-a805-0ecc1e53ef54 button.colab-df-convert');\n",
              "        buttonEl.style.display =\n",
              "          google.colab.kernel.accessAllowed ? 'block' : 'none';\n",
              "\n",
              "        async function convertToInteractive(key) {\n",
              "          const element = document.querySelector('#df-37ac42cf-420f-4f85-a805-0ecc1e53ef54');\n",
              "          const dataTable =\n",
              "            await google.colab.kernel.invokeFunction('convertToInteractive',\n",
              "                                                     [key], {});\n",
              "          if (!dataTable) return;\n",
              "\n",
              "          const docLinkHtml = 'Like what you see? Visit the ' +\n",
              "            '<a target=\"_blank\" href=https://colab.research.google.com/notebooks/data_table.ipynb>data table notebook</a>'\n",
              "            + ' to learn more about interactive tables.';\n",
              "          element.innerHTML = '';\n",
              "          dataTable['output_type'] = 'display_data';\n",
              "          await google.colab.output.renderOutput(dataTable, element);\n",
              "          const docLink = document.createElement('div');\n",
              "          docLink.innerHTML = docLinkHtml;\n",
              "          element.appendChild(docLink);\n",
              "        }\n",
              "      </script>\n",
              "    </div>\n",
              "  </div>\n",
              "  "
            ],
            "text/plain": [
              "                                       Keyword_final\n",
              "0  ['car', 'nntp', 'post', 'host', 'university', ...\n",
              "1  ['si', 'clock', 'poll', 'final', 'call', 'summ...\n",
              "2  ['pb', 'question', 'purdue', 'university', 'en...\n",
              "3  ['weitek', 'harris', 'computer', 'system', 'di...\n",
              "4  ['shuttle', 'launch', 'question', 'smithsonian...\n",
              "5  ['reword', 'second', 'amendment', 'idea', 'vtt...\n",
              "6  ['brain', 'tumor', 'treatment', 'reply', 'bmde...\n",
              "7  ['ide', 'vs', 'scsi', 'new', 'mexico', 'state'...\n",
              "8  ['win', 'icon', 'help', 'please', 'university'...\n",
              "9  ['sigma', 'design', 'double', 'article', 'univ..."
            ]
          },
          "metadata": {},
          "execution_count": 19
        }
      ]
    },
    {
      "cell_type": "code",
      "execution_count": null,
      "metadata": {
        "id": "c1dKr0zchNoy"
      },
      "outputs": [],
      "source": [
        "# df_clean=df_clean.replace(to_replace =\"\\[.\", value = '', regex = True)\n",
        "# df_clean=df_clean.replace(to_replace =\"'\", value = '', regex = True)\n",
        "# df_clean=df_clean.replace(to_replace =\" \", value = '', regex = True)\n",
        "# df_clean=df_clean.replace(to_replace ='\\]', value = '', regex = True)"
      ]
    },
    {
      "cell_type": "markdown",
      "metadata": {
        "id": "2y2CDfn3hNoy"
      },
      "source": [
        "### Added WordLemmatize words into given dataframe"
      ]
    },
    {
      "cell_type": "code",
      "execution_count": null,
      "metadata": {
        "id": "nfc_FSgrhNoz"
      },
      "outputs": [],
      "source": [
        "## Insert New column in df_news to stored the Clean Keyword\n",
        "#df_news.insert(loc=3, column='Clean_Keyword', value=df_clean['Keyword_final'].tolist())"
      ]
    },
    {
      "cell_type": "code",
      "execution_count": null,
      "metadata": {
        "id": "UzhYCdHBhNoz",
        "colab": {
          "base_uri": "https://localhost:8080/",
          "height": 337
        },
        "outputId": "f7ef282a-a774-488a-c061-3cfbbc5863c5"
      },
      "outputs": [
        {
          "output_type": "execute_result",
          "data": {
            "text/html": [
              "\n",
              "  <div id=\"df-0bedc25e-380f-493d-8f7d-448e19efda29\">\n",
              "    <div class=\"colab-df-container\">\n",
              "      <div>\n",
              "<style scoped>\n",
              "    .dataframe tbody tr th:only-of-type {\n",
              "        vertical-align: middle;\n",
              "    }\n",
              "\n",
              "    .dataframe tbody tr th {\n",
              "        vertical-align: top;\n",
              "    }\n",
              "\n",
              "    .dataframe thead th {\n",
              "        text-align: right;\n",
              "    }\n",
              "</style>\n",
              "<table border=\"1\" class=\"dataframe\">\n",
              "  <thead>\n",
              "    <tr style=\"text-align: right;\">\n",
              "      <th></th>\n",
              "      <th>Subject</th>\n",
              "      <th>content</th>\n",
              "      <th>Word tokenize</th>\n",
              "      <th>Clean_Keyword</th>\n",
              "    </tr>\n",
              "  </thead>\n",
              "  <tbody>\n",
              "    <tr>\n",
              "      <th>0</th>\n",
              "      <td>0 WHAT car is this</td>\n",
              "      <td>what car is this nntp posting host rac3.wam.um...</td>\n",
              "      <td>[what, car, is, this, nntp, posting, host, rac...</td>\n",
              "      <td>thing,car,nntp,post,host,university,maryland,c...</td>\n",
              "    </tr>\n",
              "    <tr>\n",
              "      <th>1</th>\n",
              "      <td>1 SI Clock Poll Final Call</td>\n",
              "      <td>si clock poll final call summary final call fo...</td>\n",
              "      <td>[si, clock, poll, final, call, summary, final,...</td>\n",
              "      <td>guy,kuo,si,clock,poll,final,call,summary,final...</td>\n",
              "    </tr>\n",
              "    <tr>\n",
              "      <th>2</th>\n",
              "      <td>2 PB questions</td>\n",
              "      <td>pb questions... purdue university engineering ...</td>\n",
              "      <td>[pb, questions, ..., purdue, university, engin...</td>\n",
              "      <td>thomas,willis,pb,question,purdue,university,en...</td>\n",
              "    </tr>\n",
              "    <tr>\n",
              "      <th>3</th>\n",
              "      <td>3 Weitek P9000</td>\n",
              "      <td>weitek p9000 harris computer systems division ...</td>\n",
              "      <td>[weitek, p9000, harris, computer, systems, div...</td>\n",
              "      <td>joe,green,weitek,harris,computer,system,divisi...</td>\n",
              "    </tr>\n",
              "    <tr>\n",
              "      <th>4</th>\n",
              "      <td>4 Shuttle Launch Question</td>\n",
              "      <td>shuttle launch question smithsonian astrophysi...</td>\n",
              "      <td>[shuttle, launch, question, smithsonian, astro...</td>\n",
              "      <td>jonathan,mcdowell,shuttle,launch,question,smit...</td>\n",
              "    </tr>\n",
              "  </tbody>\n",
              "</table>\n",
              "</div>\n",
              "      <button class=\"colab-df-convert\" onclick=\"convertToInteractive('df-0bedc25e-380f-493d-8f7d-448e19efda29')\"\n",
              "              title=\"Convert this dataframe to an interactive table.\"\n",
              "              style=\"display:none;\">\n",
              "        \n",
              "  <svg xmlns=\"http://www.w3.org/2000/svg\" height=\"24px\"viewBox=\"0 0 24 24\"\n",
              "       width=\"24px\">\n",
              "    <path d=\"M0 0h24v24H0V0z\" fill=\"none\"/>\n",
              "    <path d=\"M18.56 5.44l.94 2.06.94-2.06 2.06-.94-2.06-.94-.94-2.06-.94 2.06-2.06.94zm-11 1L8.5 8.5l.94-2.06 2.06-.94-2.06-.94L8.5 2.5l-.94 2.06-2.06.94zm10 10l.94 2.06.94-2.06 2.06-.94-2.06-.94-.94-2.06-.94 2.06-2.06.94z\"/><path d=\"M17.41 7.96l-1.37-1.37c-.4-.4-.92-.59-1.43-.59-.52 0-1.04.2-1.43.59L10.3 9.45l-7.72 7.72c-.78.78-.78 2.05 0 2.83L4 21.41c.39.39.9.59 1.41.59.51 0 1.02-.2 1.41-.59l7.78-7.78 2.81-2.81c.8-.78.8-2.07 0-2.86zM5.41 20L4 18.59l7.72-7.72 1.47 1.35L5.41 20z\"/>\n",
              "  </svg>\n",
              "      </button>\n",
              "      \n",
              "  <style>\n",
              "    .colab-df-container {\n",
              "      display:flex;\n",
              "      flex-wrap:wrap;\n",
              "      gap: 12px;\n",
              "    }\n",
              "\n",
              "    .colab-df-convert {\n",
              "      background-color: #E8F0FE;\n",
              "      border: none;\n",
              "      border-radius: 50%;\n",
              "      cursor: pointer;\n",
              "      display: none;\n",
              "      fill: #1967D2;\n",
              "      height: 32px;\n",
              "      padding: 0 0 0 0;\n",
              "      width: 32px;\n",
              "    }\n",
              "\n",
              "    .colab-df-convert:hover {\n",
              "      background-color: #E2EBFA;\n",
              "      box-shadow: 0px 1px 2px rgba(60, 64, 67, 0.3), 0px 1px 3px 1px rgba(60, 64, 67, 0.15);\n",
              "      fill: #174EA6;\n",
              "    }\n",
              "\n",
              "    [theme=dark] .colab-df-convert {\n",
              "      background-color: #3B4455;\n",
              "      fill: #D2E3FC;\n",
              "    }\n",
              "\n",
              "    [theme=dark] .colab-df-convert:hover {\n",
              "      background-color: #434B5C;\n",
              "      box-shadow: 0px 1px 3px 1px rgba(0, 0, 0, 0.15);\n",
              "      filter: drop-shadow(0px 1px 2px rgba(0, 0, 0, 0.3));\n",
              "      fill: #FFFFFF;\n",
              "    }\n",
              "  </style>\n",
              "\n",
              "      <script>\n",
              "        const buttonEl =\n",
              "          document.querySelector('#df-0bedc25e-380f-493d-8f7d-448e19efda29 button.colab-df-convert');\n",
              "        buttonEl.style.display =\n",
              "          google.colab.kernel.accessAllowed ? 'block' : 'none';\n",
              "\n",
              "        async function convertToInteractive(key) {\n",
              "          const element = document.querySelector('#df-0bedc25e-380f-493d-8f7d-448e19efda29');\n",
              "          const dataTable =\n",
              "            await google.colab.kernel.invokeFunction('convertToInteractive',\n",
              "                                                     [key], {});\n",
              "          if (!dataTable) return;\n",
              "\n",
              "          const docLinkHtml = 'Like what you see? Visit the ' +\n",
              "            '<a target=\"_blank\" href=https://colab.research.google.com/notebooks/data_table.ipynb>data table notebook</a>'\n",
              "            + ' to learn more about interactive tables.';\n",
              "          element.innerHTML = '';\n",
              "          dataTable['output_type'] = 'display_data';\n",
              "          await google.colab.output.renderOutput(dataTable, element);\n",
              "          const docLink = document.createElement('div');\n",
              "          docLink.innerHTML = docLinkHtml;\n",
              "          element.appendChild(docLink);\n",
              "        }\n",
              "      </script>\n",
              "    </div>\n",
              "  </div>\n",
              "  "
            ],
            "text/plain": [
              "                      Subject  \\\n",
              "0          0 WHAT car is this   \n",
              "1  1 SI Clock Poll Final Call   \n",
              "2              2 PB questions   \n",
              "3              3 Weitek P9000   \n",
              "4   4 Shuttle Launch Question   \n",
              "\n",
              "                                             content  \\\n",
              "0  what car is this nntp posting host rac3.wam.um...   \n",
              "1  si clock poll final call summary final call fo...   \n",
              "2  pb questions... purdue university engineering ...   \n",
              "3  weitek p9000 harris computer systems division ...   \n",
              "4  shuttle launch question smithsonian astrophysi...   \n",
              "\n",
              "                                       Word tokenize  \\\n",
              "0  [what, car, is, this, nntp, posting, host, rac...   \n",
              "1  [si, clock, poll, final, call, summary, final,...   \n",
              "2  [pb, questions, ..., purdue, university, engin...   \n",
              "3  [weitek, p9000, harris, computer, systems, div...   \n",
              "4  [shuttle, launch, question, smithsonian, astro...   \n",
              "\n",
              "                                       Clean_Keyword  \n",
              "0  thing,car,nntp,post,host,university,maryland,c...  \n",
              "1  guy,kuo,si,clock,poll,final,call,summary,final...  \n",
              "2  thomas,willis,pb,question,purdue,university,en...  \n",
              "3  joe,green,weitek,harris,computer,system,divisi...  \n",
              "4  jonathan,mcdowell,shuttle,launch,question,smit...  "
            ]
          },
          "metadata": {},
          "execution_count": 22
        }
      ],
      "source": [
        "## Already Word lemmatize clean keywords the below path:-\n",
        "\n",
        "#df_news[['Subject','Clean_Keyword']].to_json(\"WordLemmatize20NewsGroup.json\")\n",
        "df =pd.read_json('https://raw.githubusercontent.com/zayedrais/DocumentSearchEngine/master/data/WordLemmatize20NewsGroup.json')\n",
        "df_news['Clean_Keyword'] =df['Clean_Keyword']\n",
        "df_news.head()"
      ]
    },
    {
      "cell_type": "code",
      "source": [
        "df_news_save= df_news\n",
        "df_news_save = df_news_save.drop(['Word tokenize','Clean_Keyword'],axis=1)\n",
        "df_news_save.head(3)"
      ],
      "metadata": {
        "colab": {
          "base_uri": "https://localhost:8080/",
          "height": 143
        },
        "id": "G-eMYRmj0f6c",
        "outputId": "a917067f-6fd4-4943-d267-724e3d6e0f4b"
      },
      "execution_count": null,
      "outputs": [
        {
          "output_type": "execute_result",
          "data": {
            "text/html": [
              "\n",
              "  <div id=\"df-28cde41b-561b-4bf8-8c6c-ee4a49ec042f\">\n",
              "    <div class=\"colab-df-container\">\n",
              "      <div>\n",
              "<style scoped>\n",
              "    .dataframe tbody tr th:only-of-type {\n",
              "        vertical-align: middle;\n",
              "    }\n",
              "\n",
              "    .dataframe tbody tr th {\n",
              "        vertical-align: top;\n",
              "    }\n",
              "\n",
              "    .dataframe thead th {\n",
              "        text-align: right;\n",
              "    }\n",
              "</style>\n",
              "<table border=\"1\" class=\"dataframe\">\n",
              "  <thead>\n",
              "    <tr style=\"text-align: right;\">\n",
              "      <th></th>\n",
              "      <th>Subject</th>\n",
              "      <th>content</th>\n",
              "    </tr>\n",
              "  </thead>\n",
              "  <tbody>\n",
              "    <tr>\n",
              "      <th>0</th>\n",
              "      <td>0 WHAT car is this</td>\n",
              "      <td>what car is this nntp posting host rac3.wam.um...</td>\n",
              "    </tr>\n",
              "    <tr>\n",
              "      <th>1</th>\n",
              "      <td>1 SI Clock Poll Final Call</td>\n",
              "      <td>si clock poll final call summary final call fo...</td>\n",
              "    </tr>\n",
              "    <tr>\n",
              "      <th>2</th>\n",
              "      <td>2 PB questions</td>\n",
              "      <td>pb questions... purdue university engineering ...</td>\n",
              "    </tr>\n",
              "  </tbody>\n",
              "</table>\n",
              "</div>\n",
              "      <button class=\"colab-df-convert\" onclick=\"convertToInteractive('df-28cde41b-561b-4bf8-8c6c-ee4a49ec042f')\"\n",
              "              title=\"Convert this dataframe to an interactive table.\"\n",
              "              style=\"display:none;\">\n",
              "        \n",
              "  <svg xmlns=\"http://www.w3.org/2000/svg\" height=\"24px\"viewBox=\"0 0 24 24\"\n",
              "       width=\"24px\">\n",
              "    <path d=\"M0 0h24v24H0V0z\" fill=\"none\"/>\n",
              "    <path d=\"M18.56 5.44l.94 2.06.94-2.06 2.06-.94-2.06-.94-.94-2.06-.94 2.06-2.06.94zm-11 1L8.5 8.5l.94-2.06 2.06-.94-2.06-.94L8.5 2.5l-.94 2.06-2.06.94zm10 10l.94 2.06.94-2.06 2.06-.94-2.06-.94-.94-2.06-.94 2.06-2.06.94z\"/><path d=\"M17.41 7.96l-1.37-1.37c-.4-.4-.92-.59-1.43-.59-.52 0-1.04.2-1.43.59L10.3 9.45l-7.72 7.72c-.78.78-.78 2.05 0 2.83L4 21.41c.39.39.9.59 1.41.59.51 0 1.02-.2 1.41-.59l7.78-7.78 2.81-2.81c.8-.78.8-2.07 0-2.86zM5.41 20L4 18.59l7.72-7.72 1.47 1.35L5.41 20z\"/>\n",
              "  </svg>\n",
              "      </button>\n",
              "      \n",
              "  <style>\n",
              "    .colab-df-container {\n",
              "      display:flex;\n",
              "      flex-wrap:wrap;\n",
              "      gap: 12px;\n",
              "    }\n",
              "\n",
              "    .colab-df-convert {\n",
              "      background-color: #E8F0FE;\n",
              "      border: none;\n",
              "      border-radius: 50%;\n",
              "      cursor: pointer;\n",
              "      display: none;\n",
              "      fill: #1967D2;\n",
              "      height: 32px;\n",
              "      padding: 0 0 0 0;\n",
              "      width: 32px;\n",
              "    }\n",
              "\n",
              "    .colab-df-convert:hover {\n",
              "      background-color: #E2EBFA;\n",
              "      box-shadow: 0px 1px 2px rgba(60, 64, 67, 0.3), 0px 1px 3px 1px rgba(60, 64, 67, 0.15);\n",
              "      fill: #174EA6;\n",
              "    }\n",
              "\n",
              "    [theme=dark] .colab-df-convert {\n",
              "      background-color: #3B4455;\n",
              "      fill: #D2E3FC;\n",
              "    }\n",
              "\n",
              "    [theme=dark] .colab-df-convert:hover {\n",
              "      background-color: #434B5C;\n",
              "      box-shadow: 0px 1px 3px 1px rgba(0, 0, 0, 0.15);\n",
              "      filter: drop-shadow(0px 1px 2px rgba(0, 0, 0, 0.3));\n",
              "      fill: #FFFFFF;\n",
              "    }\n",
              "  </style>\n",
              "\n",
              "      <script>\n",
              "        const buttonEl =\n",
              "          document.querySelector('#df-28cde41b-561b-4bf8-8c6c-ee4a49ec042f button.colab-df-convert');\n",
              "        buttonEl.style.display =\n",
              "          google.colab.kernel.accessAllowed ? 'block' : 'none';\n",
              "\n",
              "        async function convertToInteractive(key) {\n",
              "          const element = document.querySelector('#df-28cde41b-561b-4bf8-8c6c-ee4a49ec042f');\n",
              "          const dataTable =\n",
              "            await google.colab.kernel.invokeFunction('convertToInteractive',\n",
              "                                                     [key], {});\n",
              "          if (!dataTable) return;\n",
              "\n",
              "          const docLinkHtml = 'Like what you see? Visit the ' +\n",
              "            '<a target=\"_blank\" href=https://colab.research.google.com/notebooks/data_table.ipynb>data table notebook</a>'\n",
              "            + ' to learn more about interactive tables.';\n",
              "          element.innerHTML = '';\n",
              "          dataTable['output_type'] = 'display_data';\n",
              "          await google.colab.output.renderOutput(dataTable, element);\n",
              "          const docLink = document.createElement('div');\n",
              "          docLink.innerHTML = docLinkHtml;\n",
              "          element.appendChild(docLink);\n",
              "        }\n",
              "      </script>\n",
              "    </div>\n",
              "  </div>\n",
              "  "
            ],
            "text/plain": [
              "                      Subject  \\\n",
              "0          0 WHAT car is this   \n",
              "1  1 SI Clock Poll Final Call   \n",
              "2              2 PB questions   \n",
              "\n",
              "                                             content  \n",
              "0  what car is this nntp posting host rac3.wam.um...  \n",
              "1  si clock poll final call summary final call fo...  \n",
              "2  pb questions... purdue university engineering ...  "
            ]
          },
          "metadata": {},
          "execution_count": 23
        }
      ]
    },
    {
      "cell_type": "code",
      "execution_count": null,
      "metadata": {
        "id": "YQmyEs6xhNoz"
      },
      "outputs": [],
      "source": [
        "df_news_save.to_csv(\"df_news_index.csv\", index=False, header=True)"
      ]
    },
    {
      "cell_type": "code",
      "execution_count": null,
      "metadata": {
        "id": "e8Jrky4MhNoz"
      },
      "outputs": [],
      "source": [
        "#df_news =pd.read_csv(\"df_news.csv\")"
      ]
    },
    {
      "cell_type": "code",
      "execution_count": null,
      "metadata": {
        "id": "OK5XA0VvhNo0",
        "colab": {
          "base_uri": "https://localhost:8080/",
          "height": 70
        },
        "outputId": "100d474a-2603-45f7-b8c9-dc6ae7098e3f"
      },
      "outputs": [
        {
          "output_type": "execute_result",
          "data": {
            "application/vnd.google.colaboratory.intrinsic+json": {
              "type": "string"
            },
            "text/plain": [
              "'thing,car,nntp,post,host,university,maryland,college,park,line,wonder,anyone,could,enlighten,car,saw,day,sport,car,look,late,early,call,bricklin,door,really,small,addition,front,bumper,separate,rest,body,know,anyone,tellme,model,name,engine,spec,year,production,car,make,history,whatever,info,funky,look,car,please,mail,il,bring,neighborhood,lerxst'"
            ]
          },
          "metadata": {},
          "execution_count": 26
        }
      ],
      "source": [
        "## Sample of clean keywords\n",
        "df_news.Clean_Keyword[0]"
      ]
    },
    {
      "cell_type": "markdown",
      "metadata": {
        "id": "w1SuG8grhNo0"
      },
      "source": [
        "# 1. Create document search engine with TF-IDF"
      ]
    },
    {
      "cell_type": "markdown",
      "metadata": {
        "id": "zm_gV8-KhNo0"
      },
      "source": [
        "### TF-IDF by using  TfidfVectorizer from sklearn.feature_extraction.text"
      ]
    },
    {
      "cell_type": "code",
      "execution_count": null,
      "metadata": {
        "id": "m7o2DsrshNo0",
        "colab": {
          "base_uri": "https://localhost:8080/"
        },
        "outputId": "6240797e-e9c5-44c7-a37e-dd1634e8096a"
      },
      "outputs": [
        {
          "output_type": "stream",
          "name": "stdout",
          "text": [
            "['acne', 'isoniazid', 'lxk', 'wipuq', 'lurk', 'newsome', 'cabammerxorns', 'middlesex', 'dashnag', 'atherton']\n"
          ]
        }
      ],
      "source": [
        "from sklearn.feature_extraction.text import TfidfVectorizer\n",
        "import operator\n",
        "\n",
        "## Create Vocabulary\n",
        "vocabulary = set()\n",
        "\n",
        "for doc in df_news.Clean_Keyword:\n",
        "    vocabulary.update(doc.split(','))\n",
        "\n",
        "vocabulary = list(vocabulary)\n",
        "print(vocabulary[60:70])\n",
        "# Intializating the tfIdf model\n",
        "tfidf = TfidfVectorizer(vocabulary=vocabulary, dtype=np.float32)\n",
        "\n",
        "# Fit the TfIdf model\n",
        "tfidf.fit(df_news.Clean_Keyword)\n",
        "\n",
        "# Transform the TfIdf model\n",
        "tfidf_tran=tfidf.transform(df_news.Clean_Keyword)\n"
      ]
    },
    {
      "cell_type": "code",
      "execution_count": null,
      "metadata": {
        "id": "tuWqDggshNo0",
        "colab": {
          "base_uri": "https://localhost:8080/"
        },
        "outputId": "d5e4053c-2469-4fea-9e20-daa6dd5be7fa"
      },
      "outputs": [
        {
          "output_type": "stream",
          "name": "stdout",
          "text": [
            "(11314, 62840)\n"
          ]
        }
      ],
      "source": [
        "print(tfidf_tran.shape)"
      ]
    },
    {
      "cell_type": "markdown",
      "metadata": {
        "id": "DIMxoqRahNo0"
      },
      "source": [
        "### Save Trained TFID Model"
      ]
    },
    {
      "cell_type": "code",
      "execution_count": null,
      "metadata": {
        "id": "6mNVN_QZhNo0"
      },
      "outputs": [],
      "source": [
        "### Save model\n",
        "with open('/content/drive/MyDrive/In-Re project/DocumentSearchEngine/My Deploy_TFID_model/tfid.pkl','wb') as handle:\n",
        "    pickle.dump(tfidf_tran, handle)"
      ]
    },
    {
      "cell_type": "code",
      "execution_count": null,
      "metadata": {
        "id": "gaf6OWa7hNo1"
      },
      "outputs": [],
      "source": [
        "### load model\n",
        "t = pickle.load(open('/content/drive/MyDrive/In-Re project/DocumentSearchEngine/My Deploy_TFID_model/tfid.pkl','rb'))"
      ]
    },
    {
      "cell_type": "markdown",
      "metadata": {
        "id": "uDEIzhj6hNo1"
      },
      "source": [
        "### Save Vacabulary\n"
      ]
    },
    {
      "cell_type": "code",
      "execution_count": null,
      "metadata": {
        "id": "iec2XjL5hNo1"
      },
      "outputs": [],
      "source": [
        "### Save Vacabulary\n",
        "with open(\"/content/drive/MyDrive/In-Re project/DocumentSearchEngine/My Deploy_TFID_model/vocabulary_news20group.txt\", \"w\") as file:\n",
        "    file.write(str(vocabulary))"
      ]
    },
    {
      "cell_type": "code",
      "execution_count": null,
      "metadata": {
        "id": "9Wy3QbF8hNo1"
      },
      "outputs": [],
      "source": [
        "### load Vacabulary\n",
        "with open(\"/content/drive/MyDrive/In-Re project/DocumentSearchEngine/My Deploy_TFID_model/vocabulary_news20group.txt\", \"r\") as file:\n",
        "    data2 = eval(file.readline())"
      ]
    },
    {
      "cell_type": "code",
      "execution_count": null,
      "metadata": {
        "id": "7kqC6YeNhNo1",
        "colab": {
          "base_uri": "https://localhost:8080/"
        },
        "outputId": "e9ad5c6a-2256-4dd7-d25c-7b711558748c"
      },
      "outputs": [
        {
          "output_type": "execute_result",
          "data": {
            "text/plain": [
              "62840"
            ]
          },
          "metadata": {},
          "execution_count": 33
        }
      ],
      "source": [
        "len(data2)"
      ]
    },
    {
      "cell_type": "markdown",
      "metadata": {
        "id": "qPoOGfu6hNo2"
      },
      "source": [
        "### Create vector for Query/search keywords"
      ]
    },
    {
      "cell_type": "code",
      "execution_count": null,
      "metadata": {
        "id": "iwuT_3gShNo2"
      },
      "outputs": [],
      "source": [
        "## Create vector for Query/search keywords\n",
        "def gen_vector_T(tokens):\n",
        "\n",
        "    Q = np.zeros((len(vocabulary)))\n",
        "    \n",
        "    x= tfidf.transform(tokens)\n",
        "    for token in tokens[0].split(','):\n",
        "        try:\n",
        "            ind = vocabulary.index(token)\n",
        "            Q[ind]  = x[0, tfidf.vocabulary_[token]]\n",
        "        except:\n",
        "            pass\n",
        "    return Q"
      ]
    },
    {
      "cell_type": "markdown",
      "metadata": {
        "id": "ypksBR98hNo2"
      },
      "source": [
        "### Calculate Cosine Similarity with formula "
      ]
    },
    {
      "cell_type": "code",
      "execution_count": null,
      "metadata": {
        "id": "3q7Qc1LthNo2"
      },
      "outputs": [],
      "source": [
        "def cosine_sim(a, b):\n",
        "    cos_sim = np.dot(a, b)/(np.linalg.norm(a)*np.linalg.norm(b))\n",
        "    return cos_sim\n",
        "    "
      ]
    },
    {
      "cell_type": "markdown",
      "metadata": {
        "id": "hlvBBqiFhNo2"
      },
      "source": [
        "### Calculate Cosine similarity of trained Tfidf to input query"
      ]
    },
    {
      "cell_type": "code",
      "execution_count": null,
      "metadata": {
        "id": "cPH8bgC4hNo2"
      },
      "outputs": [],
      "source": [
        "def cosine_similarity_T(k, query):\n",
        "    #print(\"Cosine Similarity\")\n",
        "    preprocessed_query = re.sub(\"\\W+\", \" \", query).strip()\n",
        "    print(preprocessed_query)\n",
        "    tokens = word_tokenize(str(preprocessed_query))\n",
        "    q_df = pd.DataFrame(columns=['q_clean'])\n",
        "    q_df.loc[0,'q_clean'] =tokens\n",
        "    q_df['q_clean'] =wordLemmatizer(q_df.q_clean)\n",
        "    q_df=q_df.replace(to_replace =\"\\[.\", value = '', regex = True)\n",
        "    q_df=q_df.replace(to_replace =\"'\", value = '', regex = True)\n",
        "    q_df=q_df.replace(to_replace =\" \", value = '', regex = True)\n",
        "    q_df=q_df.replace(to_replace ='\\]', value = '', regex = True)\n",
        "    print(\"\\nQuery:\", query)\n",
        "    #print(\"\")\n",
        "    print(tokens)\n",
        "    \n",
        "    d_cosines = []\n",
        "    \n",
        "    query_vector = gen_vector_T(q_df['q_clean'])\n",
        "    \n",
        "    for d in tfidf_tran.A:\n",
        "        d_cosines.append(cosine_sim(query_vector, d))\n",
        "                    \n",
        "    out = np.array(d_cosines).argsort()[-k:][::-1]\n",
        "    #print(\"\")\n",
        "    d_cosines.sort()\n",
        "    #print(out)\n",
        "    a = pd.DataFrame()\n",
        "    for i,index in enumerate(out):\n",
        "        a.loc[i,'index'] = str(index)\n",
        "        a.loc[i,'Subject'] = df_news['Subject'][index]\n",
        "    for j,simScore in enumerate(d_cosines[-k:][::-1]):\n",
        "        a.loc[j,'Score'] = simScore\n",
        "    return a"
      ]
    },
    {
      "cell_type": "code",
      "execution_count": null,
      "metadata": {
        "id": "4aTDfA0lhNo3",
        "colab": {
          "base_uri": "https://localhost:8080/",
          "height": 467
        },
        "outputId": "c0ba24cf-be26-4caf-841d-607e4bdbab22"
      },
      "outputs": [
        {
          "output_type": "stream",
          "name": "stdout",
          "text": [
            "graduation year\n",
            "\n",
            "Query: graduation year\n",
            "['graduation', 'year']\n",
            "CPU times: user 3.37 s, sys: 3.96 s, total: 7.33 s\n",
            "Wall time: 4.5 s\n"
          ]
        },
        {
          "output_type": "execute_result",
          "data": {
            "text/html": [
              "\n",
              "  <div id=\"df-81770116-6a6b-42d9-8817-cc0313c2f9de\">\n",
              "    <div class=\"colab-df-container\">\n",
              "      <div>\n",
              "<style scoped>\n",
              "    .dataframe tbody tr th:only-of-type {\n",
              "        vertical-align: middle;\n",
              "    }\n",
              "\n",
              "    .dataframe tbody tr th {\n",
              "        vertical-align: top;\n",
              "    }\n",
              "\n",
              "    .dataframe thead th {\n",
              "        text-align: right;\n",
              "    }\n",
              "</style>\n",
              "<table border=\"1\" class=\"dataframe\">\n",
              "  <thead>\n",
              "    <tr style=\"text-align: right;\">\n",
              "      <th></th>\n",
              "      <th>index</th>\n",
              "      <th>Subject</th>\n",
              "      <th>Score</th>\n",
              "    </tr>\n",
              "  </thead>\n",
              "  <tbody>\n",
              "    <tr>\n",
              "      <th>0</th>\n",
              "      <td>1914</td>\n",
              "      <td>1914 Going permanent no mail</td>\n",
              "      <td>0.275604</td>\n",
              "    </tr>\n",
              "    <tr>\n",
              "      <th>1</th>\n",
              "      <td>4326</td>\n",
              "      <td>4326 Computer Engr vs Computer Science</td>\n",
              "      <td>0.147798</td>\n",
              "    </tr>\n",
              "    <tr>\n",
              "      <th>2</th>\n",
              "      <td>4366</td>\n",
              "      <td>4366 Computer Engr vs Computer Science</td>\n",
              "      <td>0.115212</td>\n",
              "    </tr>\n",
              "    <tr>\n",
              "      <th>3</th>\n",
              "      <td>6696</td>\n",
              "      <td>6696 Subaru Shop manuals for sale</td>\n",
              "      <td>0.110571</td>\n",
              "    </tr>\n",
              "    <tr>\n",
              "      <th>4</th>\n",
              "      <td>3127</td>\n",
              "      <td>3127 Mostly non computer items Rochester area</td>\n",
              "      <td>0.101573</td>\n",
              "    </tr>\n",
              "    <tr>\n",
              "      <th>5</th>\n",
              "      <td>1651</td>\n",
              "      <td>1651 Defensive Averages 1988 1992 Third Base</td>\n",
              "      <td>0.096594</td>\n",
              "    </tr>\n",
              "    <tr>\n",
              "      <th>6</th>\n",
              "      <td>6816</td>\n",
              "      <td>6816 Rumours about 3DO</td>\n",
              "      <td>0.095010</td>\n",
              "    </tr>\n",
              "    <tr>\n",
              "      <th>7</th>\n",
              "      <td>9057</td>\n",
              "      <td>9057 This year s biggest and worst opinion</td>\n",
              "      <td>0.087091</td>\n",
              "    </tr>\n",
              "    <tr>\n",
              "      <th>8</th>\n",
              "      <td>8920</td>\n",
              "      <td>8920 Honors Degrees Do they mean anything</td>\n",
              "      <td>0.081665</td>\n",
              "    </tr>\n",
              "    <tr>\n",
              "      <th>9</th>\n",
              "      <td>17</td>\n",
              "      <td>17 Insurance Rates on Performance Cars SUMMARY</td>\n",
              "      <td>0.081197</td>\n",
              "    </tr>\n",
              "  </tbody>\n",
              "</table>\n",
              "</div>\n",
              "      <button class=\"colab-df-convert\" onclick=\"convertToInteractive('df-81770116-6a6b-42d9-8817-cc0313c2f9de')\"\n",
              "              title=\"Convert this dataframe to an interactive table.\"\n",
              "              style=\"display:none;\">\n",
              "        \n",
              "  <svg xmlns=\"http://www.w3.org/2000/svg\" height=\"24px\"viewBox=\"0 0 24 24\"\n",
              "       width=\"24px\">\n",
              "    <path d=\"M0 0h24v24H0V0z\" fill=\"none\"/>\n",
              "    <path d=\"M18.56 5.44l.94 2.06.94-2.06 2.06-.94-2.06-.94-.94-2.06-.94 2.06-2.06.94zm-11 1L8.5 8.5l.94-2.06 2.06-.94-2.06-.94L8.5 2.5l-.94 2.06-2.06.94zm10 10l.94 2.06.94-2.06 2.06-.94-2.06-.94-.94-2.06-.94 2.06-2.06.94z\"/><path d=\"M17.41 7.96l-1.37-1.37c-.4-.4-.92-.59-1.43-.59-.52 0-1.04.2-1.43.59L10.3 9.45l-7.72 7.72c-.78.78-.78 2.05 0 2.83L4 21.41c.39.39.9.59 1.41.59.51 0 1.02-.2 1.41-.59l7.78-7.78 2.81-2.81c.8-.78.8-2.07 0-2.86zM5.41 20L4 18.59l7.72-7.72 1.47 1.35L5.41 20z\"/>\n",
              "  </svg>\n",
              "      </button>\n",
              "      \n",
              "  <style>\n",
              "    .colab-df-container {\n",
              "      display:flex;\n",
              "      flex-wrap:wrap;\n",
              "      gap: 12px;\n",
              "    }\n",
              "\n",
              "    .colab-df-convert {\n",
              "      background-color: #E8F0FE;\n",
              "      border: none;\n",
              "      border-radius: 50%;\n",
              "      cursor: pointer;\n",
              "      display: none;\n",
              "      fill: #1967D2;\n",
              "      height: 32px;\n",
              "      padding: 0 0 0 0;\n",
              "      width: 32px;\n",
              "    }\n",
              "\n",
              "    .colab-df-convert:hover {\n",
              "      background-color: #E2EBFA;\n",
              "      box-shadow: 0px 1px 2px rgba(60, 64, 67, 0.3), 0px 1px 3px 1px rgba(60, 64, 67, 0.15);\n",
              "      fill: #174EA6;\n",
              "    }\n",
              "\n",
              "    [theme=dark] .colab-df-convert {\n",
              "      background-color: #3B4455;\n",
              "      fill: #D2E3FC;\n",
              "    }\n",
              "\n",
              "    [theme=dark] .colab-df-convert:hover {\n",
              "      background-color: #434B5C;\n",
              "      box-shadow: 0px 1px 3px 1px rgba(0, 0, 0, 0.15);\n",
              "      filter: drop-shadow(0px 1px 2px rgba(0, 0, 0, 0.3));\n",
              "      fill: #FFFFFF;\n",
              "    }\n",
              "  </style>\n",
              "\n",
              "      <script>\n",
              "        const buttonEl =\n",
              "          document.querySelector('#df-81770116-6a6b-42d9-8817-cc0313c2f9de button.colab-df-convert');\n",
              "        buttonEl.style.display =\n",
              "          google.colab.kernel.accessAllowed ? 'block' : 'none';\n",
              "\n",
              "        async function convertToInteractive(key) {\n",
              "          const element = document.querySelector('#df-81770116-6a6b-42d9-8817-cc0313c2f9de');\n",
              "          const dataTable =\n",
              "            await google.colab.kernel.invokeFunction('convertToInteractive',\n",
              "                                                     [key], {});\n",
              "          if (!dataTable) return;\n",
              "\n",
              "          const docLinkHtml = 'Like what you see? Visit the ' +\n",
              "            '<a target=\"_blank\" href=https://colab.research.google.com/notebooks/data_table.ipynb>data table notebook</a>'\n",
              "            + ' to learn more about interactive tables.';\n",
              "          element.innerHTML = '';\n",
              "          dataTable['output_type'] = 'display_data';\n",
              "          await google.colab.output.renderOutput(dataTable, element);\n",
              "          const docLink = document.createElement('div');\n",
              "          docLink.innerHTML = docLinkHtml;\n",
              "          element.appendChild(docLink);\n",
              "        }\n",
              "      </script>\n",
              "    </div>\n",
              "  </div>\n",
              "  "
            ],
            "text/plain": [
              "  index                                         Subject     Score\n",
              "0  1914                    1914 Going permanent no mail  0.275604\n",
              "1  4326          4326 Computer Engr vs Computer Science  0.147798\n",
              "2  4366          4366 Computer Engr vs Computer Science  0.115212\n",
              "3  6696               6696 Subaru Shop manuals for sale  0.110571\n",
              "4  3127   3127 Mostly non computer items Rochester area  0.101573\n",
              "5  1651    1651 Defensive Averages 1988 1992 Third Base  0.096594\n",
              "6  6816                          6816 Rumours about 3DO  0.095010\n",
              "7  9057      9057 This year s biggest and worst opinion  0.087091\n",
              "8  8920       8920 Honors Degrees Do they mean anything  0.081665\n",
              "9    17  17 Insurance Rates on Performance Cars SUMMARY  0.081197"
            ]
          },
          "metadata": {},
          "execution_count": 37
        }
      ],
      "source": [
        "%time cosine_similarity_T(10,'graduation year')\n",
        "#df_news['Subject']"
      ]
    },
    {
      "cell_type": "code",
      "source": [
        "df_news['content'][1914]"
      ],
      "metadata": {
        "colab": {
          "base_uri": "https://localhost:8080/",
          "height": 87
        },
        "id": "L2QHcliMgqoS",
        "outputId": "f18dd9b3-fb8a-4c7a-f67e-748d0c31ca0b"
      },
      "execution_count": null,
      "outputs": [
        {
          "output_type": "execute_result",
          "data": {
            "application/vnd.google.colaboratory.intrinsic+json": {
              "type": "string"
            },
            "text/plain": [
              "'going permanent no mail indiana university well it s that time of year again here at iu graduation. unfortunately this means that i am out of here more than likely for good. i cannot say if i ll be in here under another username or not or even if i ll ever get back in here at all. i am leaving this part of my ministry to another brother john right. so have fun and remember that flaming can be considered slander. joe fisher'"
            ]
          },
          "metadata": {},
          "execution_count": 39
        }
      ]
    },
    {
      "cell_type": "markdown",
      "metadata": {
        "id": "2oGfr_K9hNo3"
      },
      "source": [
        "# 2. Document Search Engine with Google Universal Sentence Encoder"
      ]
    },
    {
      "cell_type": "code",
      "execution_count": null,
      "metadata": {
        "id": "T0Kc5QOqhNo3"
      },
      "outputs": [],
      "source": [
        "!pip install --upgrade tensorflow-gpu\n",
        "#Install TF-Hub.\n",
        "!pip install tensorflow-hub\n",
        "!pip install seaborn"
      ]
    },
    {
      "cell_type": "code",
      "execution_count": null,
      "metadata": {
        "id": "AlADfpeLhNo3"
      },
      "outputs": [],
      "source": [
        "import pandas as pd\n",
        "import numpy as np\n",
        "import re, string\n",
        "import os \n",
        "import tensorflow as tf\n",
        "import tensorflow_hub as hub\n",
        "import matplotlib.pyplot as plt\n",
        "import seaborn as sns\n",
        "from sklearn.metrics.pairwise import linear_kernel"
      ]
    },
    {
      "cell_type": "code",
      "execution_count": null,
      "metadata": {
        "id": "By6zXErShNo3",
        "colab": {
          "base_uri": "https://localhost:8080/"
        },
        "outputId": "35c1e2e1-8e76-4eb7-eb89-89bb3b1dca78"
      },
      "outputs": [
        {
          "output_type": "stream",
          "name": "stdout",
          "text": [
            "Version:  2.8.0\n",
            "Eager mode:  True\n",
            "Hub version:  0.12.0\n",
            "GPU is available\n"
          ]
        }
      ],
      "source": [
        "print(\"Version: \", tf.__version__)\n",
        "print(\"Eager mode: \", tf.executing_eagerly())\n",
        "print(\"Hub version: \", hub.__version__)\n",
        "print(\"GPU is\", \"available\" if tf.config.experimental.list_physical_devices(\"GPU\") else \"NOT AVAILABLE\")"
      ]
    },
    {
      "cell_type": "markdown",
      "metadata": {
        "id": "8-w3qi1WhNo4"
      },
      "source": [
        "### Load Google Universal sentence Encoder(DAN) Pretrained model"
      ]
    },
    {
      "cell_type": "code",
      "execution_count": null,
      "metadata": {
        "id": "FK2mNGUnhNo4",
        "colab": {
          "base_uri": "https://localhost:8080/"
        },
        "outputId": "dc5c2843-d79c-4af2-b80c-b11e431a58fd"
      },
      "outputs": [
        {
          "output_type": "stream",
          "name": "stdout",
          "text": [
            "CPU times: user 14 s, sys: 5.79 s, total: 19.8 s\n",
            "Wall time: 32.3 s\n"
          ]
        }
      ],
      "source": [
        "#!mkdir /home/zettadevs/GoogleUSE Model\n",
        "#! curl -L -o 4.tar.gz \"https://tfhub.dev/google/universal-sentence-encoder/4?tf-hub-format=compressed\" \n",
        "module_url = \"https://tfhub.dev/google/universal-sentence-encoder/4\"\n",
        "#module_path =\"/home/zettadevs/GoogleUSEModel/USE_4\"\n",
        "%time model = hub.load(module_url)\n",
        "#print (\"module %s loaded\" % module_url)\n",
        "\n",
        "#Create function for using modeltraining\n",
        "def embed(input):\n",
        "    return model(input)"
      ]
    },
    {
      "cell_type": "markdown",
      "metadata": {
        "id": "PjLiDs0dhNo4"
      },
      "source": [
        "### Use Case of Google USE"
      ]
    },
    {
      "cell_type": "code",
      "execution_count": null,
      "metadata": {
        "id": "wWHqEEKHhNo4"
      },
      "outputs": [],
      "source": [
        "def plot_similarity(labels, features, rotation):\n",
        "    corr = np.inner(features, features) #1d to 2d\n",
        "    sns.set(font_scale=1.2)\n",
        "    g = sns.heatmap(\n",
        "      corr,\n",
        "      xticklabels=labels,\n",
        "      yticklabels=labels,\n",
        "      vmin=0,\n",
        "      vmax=1,\n",
        "      cmap=\"YlOrRd\")\n",
        "    g.set_xticklabels(labels, rotation=rotation)\n",
        "    g.set_title(\"Semantic Similarity\")"
      ]
    },
    {
      "cell_type": "code",
      "execution_count": null,
      "metadata": {
        "id": "YFYNaSr8hNo4"
      },
      "outputs": [],
      "source": [
        "def run_and_plot_U(messages_):\n",
        "    message_embeddings_ = embed(messages_)\n",
        "    plot_similarity(messages_, message_embeddings_, 45)"
      ]
    },
    {
      "cell_type": "code",
      "execution_count": null,
      "metadata": {
        "id": "7D2vpUhzhNo4"
      },
      "outputs": [],
      "source": [
        "def SimilarityScore(messages):\n",
        "    message_embeddings = embed(messages)\n",
        "    corr = np.inner(message_embeddings,message_embeddings)\n",
        "    for i, message_embedding in enumerate(np.array(message_embeddings).tolist()):\n",
        "        print(\"Message: {}\".format(messages[i]))\n",
        "    print(corr)"
      ]
    },
    {
      "cell_type": "markdown",
      "metadata": {
        "id": "_MJXKwSahNo5"
      },
      "source": [
        "### Use Case 1:- Word semantic"
      ]
    },
    {
      "cell_type": "code",
      "execution_count": null,
      "metadata": {
        "id": "4SvqOiGBhNo5"
      },
      "outputs": [],
      "source": [
        "WordMessage =['software', 'natural language proessing', 'semantic search', 'Artificial intelegence', 'Information retrieval','Data mining']"
      ]
    },
    {
      "cell_type": "code",
      "execution_count": null,
      "metadata": {
        "id": "dTViQfoHhNo5",
        "colab": {
          "base_uri": "https://localhost:8080/",
          "height": 458
        },
        "outputId": "6b580437-3ebe-45ba-e4ec-628f5add9086"
      },
      "outputs": [
        {
          "output_type": "display_data",
          "data": {
            "image/png": "[encoded data removed]",
            "text/plain": [
              "<Figure size 432x288 with 2 Axes>"
            ]
          },
          "metadata": {}
        }
      ],
      "source": [
        "run_and_plot_U(WordMessage)  # here 'big data' and 'millions od data' it's correlated score is between 0.6 to 0.5.\n",
        "                            # Even 'AWS' and 'Azure' are also b/w 0.6 to 0.5. As you can see below pic"
      ]
    },
    {
      "cell_type": "markdown",
      "metadata": {
        "id": "mENaRJcnhNo5"
      },
      "source": [
        "### Use Case 2: Sentence Semantic"
      ]
    },
    {
      "cell_type": "code",
      "execution_count": null,
      "metadata": {
        "id": "pUgug0jLhNo5"
      },
      "outputs": [],
      "source": [
        "SentMessage =['my name is ghfran','they call me nour','i\\'m called ghfran','do you know nour?']"
      ]
    },
    {
      "cell_type": "code",
      "execution_count": null,
      "metadata": {
        "id": "nUW3hi3NhNo5",
        "colab": {
          "base_uri": "https://localhost:8080/",
          "height": 401
        },
        "outputId": "c8d1a566-4de0-455b-9c56-e696eccd9f1a"
      },
      "outputs": [
        {
          "output_type": "display_data",
          "data": {
            "image/png": "[encoded data removed]",
            "text/plain": [
              "<Figure size 432x288 with 2 Axes>"
            ]
          },
          "metadata": {}
        }
      ],
      "source": [
        "run_and_plot_U(SentMessage)"
      ]
    },
    {
      "cell_type": "markdown",
      "metadata": {
        "id": "Ti_zE2GrhNo5"
      },
      "source": [
        "### Use Case 3: Word,Sentence and paragram Semantic"
      ]
    },
    {
      "cell_type": "code",
      "execution_count": null,
      "metadata": {
        "id": "bS7mMDw5hNo5"
      },
      "outputs": [],
      "source": [
        "word ='Cloud computing'\n",
        "Sentence = 'what is cloud computing'\n",
        "Para =(\"Cloud computing is the latest generation technology with a high IT infrastructure that provides us a means by which we can use and utilize the applications as utilities via the internet.\"\n",
        "        \"Cloud computing makes IT infrastructure along with their services available 'on-need' basis.\" \n",
        "        \"The cloud technology includes - a development platform, hard disk, computing power, software application, and database.\")\n",
        "Para5 =(\n",
        "    \"Universal Sentence Encoder embeddings also support short paragraphs. \"\n",
        "    \"There is no hard limit on how long the paragraph is. Roughly, the longer \"\n",
        "    \"the more 'diluted' the embedding will be.\")\n",
        "Para6 =(\"Azure is a cloud computing platform which was launched by Microsoft in February 2010.\"\n",
        "       \"It is an open and flexible cloud platform which helps in development, data storage, service hosting, and service management.\"\n",
        "       \"The Azure tool hosts web applications over the internet with the help of Microsoft data centers.\")\n",
        "case4Message=[word,Sentence,Para,Para5,Para6]\n"
      ]
    },
    {
      "cell_type": "code",
      "execution_count": null,
      "metadata": {
        "id": "a10PqbhyhNo6",
        "colab": {
          "base_uri": "https://localhost:8080/"
        },
        "outputId": "b80c6e51-456a-47a9-9b1a-632fc3372fe1"
      },
      "outputs": [
        {
          "output_type": "stream",
          "name": "stdout",
          "text": [
            "Message: Cloud computing\n",
            "Message: what is cloud computing\n",
            "Message: Cloud computing is the latest generation technology with a high IT infrastructure that provides us a means by which we can use and utilize the applications as utilities via the internet.Cloud computing makes IT infrastructure along with their services available 'on-need' basis.The cloud technology includes - a development platform, hard disk, computing power, software application, and database.\n",
            "Message: Universal Sentence Encoder embeddings also support short paragraphs. There is no hard limit on how long the paragraph is. Roughly, the longer the more 'diluted' the embedding will be.\n",
            "Message: Azure is a cloud computing platform which was launched by Microsoft in February 2010.It is an open and flexible cloud platform which helps in development, data storage, service hosting, and service management.The Azure tool hosts web applications over the internet with the help of Microsoft data centers.\n",
            "[[ 1.          0.7828855   0.5078861   0.01781905  0.50382066]\n",
            " [ 0.7828855   1.          0.5534512  -0.03384615  0.5246217 ]\n",
            " [ 0.5078861   0.5534512   0.9999999   0.05925363  0.58710706]\n",
            " [ 0.01781905 -0.03384615  0.05925363  0.9999999   0.01667343]\n",
            " [ 0.50382066  0.5246217   0.58710706  0.01667343  0.99999976]]\n"
          ]
        }
      ],
      "source": [
        "SimilarityScore(case4Message)\n"
      ]
    },
    {
      "cell_type": "code",
      "execution_count": null,
      "metadata": {
        "id": "iMN0uSNIhNo6",
        "colab": {
          "base_uri": "https://localhost:8080/"
        },
        "outputId": "c1ab6484-5a57-44e4-b7b0-9af6d58037d1"
      },
      "outputs": [
        {
          "output_type": "execute_result",
          "data": {
            "text/plain": [
              "11314"
            ]
          },
          "metadata": {},
          "execution_count": 53
        }
      ],
      "source": [
        "len(df_news.content)"
      ]
    },
    {
      "cell_type": "markdown",
      "metadata": {
        "id": "ORsN_hOGhNo6"
      },
      "source": [
        "## Training the google use model batch wise chunk size 1000 rows"
      ]
    },
    {
      "cell_type": "code",
      "execution_count": null,
      "metadata": {
        "id": "PpCGekpRhNo6"
      },
      "outputs": [],
      "source": [
        "ls =[]\n",
        "chunksize =1000\n",
        "le =len(df_news.content)\n",
        "for i in range(0,le,chunksize):\n",
        "    if(i+chunksize > le): \n",
        "        chunksize= le;\n",
        "        ls.append(chunksize)\n",
        "    else:\n",
        "        a =i+chunksize\n",
        "        ls.append(a)\n",
        "ls\n",
        "j=0\n",
        "for i in ls:\n",
        "    directory = \"/content/drive/MyDrive/In-Re project/DocumentSearchEngine/GoogleUSEModel/TrainModel/\" + str(i)\n",
        "    if not os.path.exists(directory):\n",
        "        os.makedirs(directory)\n",
        "    directory = \"/content/drive/MyDrive/In-Re project/DocumentSearchEngine/GoogleUSEModel/TrainModel/\" + str(i)\n",
        "    print(j,i) \n",
        "    m=embed(df_news.content[j:i])\n",
        "    #print(df_news.content[j:i],m)\n",
        "    exported_m = tf.train.Checkpoint(v=tf.Variable(m))\n",
        "    exported_m.f = tf.function(\n",
        "      lambda  x: exported_m.v * x,\n",
        "      input_signature=[tf.TensorSpec(shape=None, dtype=tf.float32)])\n",
        "\n",
        "    tf.saved_model.save(exported_m,directory)\n",
        "    j = i\n",
        "    print(i)"
      ]
    },
    {
      "cell_type": "markdown",
      "metadata": {
        "id": "7EDhc5JFhNo6"
      },
      "source": [
        "##  Batch wise Load the model"
      ]
    },
    {
      "cell_type": "code",
      "execution_count": null,
      "metadata": {
        "id": "1V5IRHFWhNo6"
      },
      "outputs": [],
      "source": [
        "ar =[]\n",
        "for i in ls:\n",
        "    directory = \"/content/drive/MyDrive/In-Re project/DocumentSearchEngine/GoogleUSEModel/TrainModel/\" + str(i)\n",
        "    if os.path.exists(directory):\n",
        "        print(directory)\n",
        "        imported_m = tf.saved_model.load(directory)\n",
        "        a= imported_m.v.numpy()\n",
        "        #print(a)\n",
        "        exec(f'load{i} = a')     "
      ]
    },
    {
      "cell_type": "markdown",
      "metadata": {
        "id": "YrrjqLj8hNo6"
      },
      "source": [
        "## Concatenate the array from batchwise loaded model"
      ]
    },
    {
      "cell_type": "code",
      "execution_count": null,
      "metadata": {
        "id": "cEuWZb-RhNo7",
        "colab": {
          "base_uri": "https://localhost:8080/"
        },
        "outputId": "de872245-6ef9-4a8d-9c4b-c21e9b1987e1"
      },
      "outputs": [
        {
          "output_type": "execute_result",
          "data": {
            "text/plain": [
              "(11314, 512)"
            ]
          },
          "metadata": {},
          "execution_count": 56
        }
      ],
      "source": [
        "con_a =np.concatenate((load1000, load2000,load3000,load4000,load5000,load6000,load7000,load8000,load9000,load10000,load11000,load11314))\n",
        "con_a.shape"
      ]
    },
    {
      "cell_type": "markdown",
      "metadata": {
        "id": "7g8K6AT0hNo7"
      },
      "source": [
        "## Training the model for single time"
      ]
    },
    {
      "cell_type": "code",
      "execution_count": null,
      "metadata": {
        "id": "hqPGP_ZzhNo7"
      },
      "outputs": [],
      "source": [
        "## training the model\n",
        "Model_USE= embed(df_news.content[0:2500])"
      ]
    },
    {
      "cell_type": "markdown",
      "metadata": {
        "id": "frdcJZjthNo7"
      },
      "source": [
        "## Save model for single time"
      ]
    },
    {
      "cell_type": "code",
      "execution_count": null,
      "metadata": {
        "id": "xJbbS20whNo7",
        "colab": {
          "base_uri": "https://localhost:8080/"
        },
        "outputId": "dcf79eed-034f-4974-a9db-765498293405"
      },
      "outputs": [
        {
          "metadata": {
            "tags": null
          },
          "name": "stdout",
          "output_type": "stream",
          "text": [
            "INFO:tensorflow:Assets written to: /content/drive/MyDrive/In-Re project/DocumentSearchEngine/GoogleUSEModel/TrainModel/assets\n"
          ]
        },
        {
          "metadata": {
            "tags": null
          },
          "name": "stderr",
          "output_type": "stream",
          "text": [
            "INFO:tensorflow:Assets written to: /content/drive/MyDrive/In-Re project/DocumentSearchEngine/GoogleUSEModel/TrainModel/assets\n"
          ]
        }
      ],
      "source": [
        "exported = tf.train.Checkpoint(v=tf.Variable(Model_USE))\n",
        "exported.f = tf.function(\n",
        "    lambda  x: exported.v * x,\n",
        "    input_signature=[tf.TensorSpec(shape=None, dtype=tf.float32)])\n",
        "\n",
        "tf.saved_model.save(exported,'/content/drive/MyDrive/In-Re project/DocumentSearchEngine/GoogleUSEModel/TrainModel')"
      ]
    },
    {
      "cell_type": "markdown",
      "metadata": {
        "id": "eXtI-S7khNo7"
      },
      "source": [
        "## Load model for single time"
      ]
    },
    {
      "cell_type": "code",
      "execution_count": null,
      "metadata": {
        "id": "UdQLbS7fhNo7",
        "colab": {
          "base_uri": "https://localhost:8080/"
        },
        "outputId": "28405361-daa7-4a35-dc2e-eae7f1dbfc51"
      },
      "outputs": [
        {
          "data": {
            "text/plain": [
              "(2500, 512)"
            ]
          },
          "execution_count": null,
          "metadata": {},
          "output_type": "execute_result"
        }
      ],
      "source": [
        "## Load Model\n",
        "imported = tf.saved_model.load('/content/drive/MyDrive/In-Re project/DocumentSearchEngine/GoogleUSEModel/TrainModel/')\n",
        "loadedmodel =imported.v.numpy()\n",
        "loadedmodel.shape"
      ]
    },
    {
      "cell_type": "markdown",
      "metadata": {
        "id": "AiQmDw6YhNo7"
      },
      "source": [
        "## Create Function to get the top Similare document by giving input as a keyword or sentence."
      ]
    },
    {
      "cell_type": "code",
      "execution_count": null,
      "metadata": {
        "id": "uvXevVMYhNo8"
      },
      "outputs": [],
      "source": [
        "def SearchDocument(query):\n",
        "    q =[query]\n",
        "    # embed the query for calcluating the similarity\n",
        "    Q_Train =embed(q)\n",
        "    \n",
        "    #imported_m = tf.saved_model.load('/content/drive/MyDrive/In-Re project/DocumentSearchEngine/GoogleUSEModel/TrainModel')\n",
        "    #loadedmodel =imported_m.v.numpy()\n",
        "    # Calculate the Similarity\n",
        "    linear_similarities = linear_kernel(Q_Train, con_a).flatten() \n",
        "    #Sort top 10 index with similarity score\n",
        "    Top_index_doc = linear_similarities.argsort()[:-11:-1]\n",
        "    # sort by similarity score\n",
        "    linear_similarities.sort()\n",
        "    a = pd.DataFrame()\n",
        "    for i,index in enumerate(Top_index_doc):\n",
        "        a.loc[i,'index'] = str(index)\n",
        "        a.loc[i,'File_Name'] = df_news['Subject'][index] ## Read File name with index from File_data DF\n",
        "    for j,simScore in enumerate(linear_similarities[:-11:-1]):\n",
        "        a.loc[j,'Score'] = simScore\n",
        "    return a\n"
      ]
    },
    {
      "cell_type": "code",
      "execution_count": null,
      "metadata": {
        "id": "O69QhQjLhNo8",
        "colab": {
          "base_uri": "https://localhost:8080/",
          "height": 363
        },
        "outputId": "effdd0e8-3150-46ef-f140-2551e320f32a"
      },
      "outputs": [
        {
          "data": {
            "text/html": [
              "\n",
              "  <div id=\"df-8fc8eae1-eb24-486a-b03c-8446eb3a0f13\">\n",
              "    <div class=\"colab-df-container\">\n",
              "      <div>\n",
              "<style scoped>\n",
              "    .dataframe tbody tr th:only-of-type {\n",
              "        vertical-align: middle;\n",
              "    }\n",
              "\n",
              "    .dataframe tbody tr th {\n",
              "        vertical-align: top;\n",
              "    }\n",
              "\n",
              "    .dataframe thead th {\n",
              "        text-align: right;\n",
              "    }\n",
              "</style>\n",
              "<table border=\"1\" class=\"dataframe\">\n",
              "  <thead>\n",
              "    <tr style=\"text-align: right;\">\n",
              "      <th></th>\n",
              "      <th>index</th>\n",
              "      <th>File_Name</th>\n",
              "      <th>Score</th>\n",
              "    </tr>\n",
              "  </thead>\n",
              "  <tbody>\n",
              "    <tr>\n",
              "      <th>0</th>\n",
              "      <td>10582</td>\n",
              "      <td>10582 Honors Degrees Do they mean anything</td>\n",
              "      <td>0.219261</td>\n",
              "    </tr>\n",
              "    <tr>\n",
              "      <th>1</th>\n",
              "      <td>4032</td>\n",
              "      <td>4032 Players Rushed to Majors</td>\n",
              "      <td>0.218920</td>\n",
              "    </tr>\n",
              "    <tr>\n",
              "      <th>2</th>\n",
              "      <td>1914</td>\n",
              "      <td>1914 Going permanent no mail</td>\n",
              "      <td>0.199359</td>\n",
              "    </tr>\n",
              "    <tr>\n",
              "      <th>3</th>\n",
              "      <td>9601</td>\n",
              "      <td>9601 Summer Internships</td>\n",
              "      <td>0.195624</td>\n",
              "    </tr>\n",
              "    <tr>\n",
              "      <th>4</th>\n",
              "      <td>6067</td>\n",
              "      <td>6067 The Kuebelwagen</td>\n",
              "      <td>0.191727</td>\n",
              "    </tr>\n",
              "    <tr>\n",
              "      <th>5</th>\n",
              "      <td>6530</td>\n",
              "      <td>6530 NCAA finals Winner</td>\n",
              "      <td>0.187054</td>\n",
              "    </tr>\n",
              "    <tr>\n",
              "      <th>6</th>\n",
              "      <td>5345</td>\n",
              "      <td>5345 Graphics Library Package</td>\n",
              "      <td>0.178184</td>\n",
              "    </tr>\n",
              "    <tr>\n",
              "      <th>7</th>\n",
              "      <td>435</td>\n",
              "      <td>435 podiatry School info</td>\n",
              "      <td>0.171815</td>\n",
              "    </tr>\n",
              "    <tr>\n",
              "      <th>8</th>\n",
              "      <td>10028</td>\n",
              "      <td>10028 Afterlife</td>\n",
              "      <td>0.164677</td>\n",
              "    </tr>\n",
              "    <tr>\n",
              "      <th>9</th>\n",
              "      <td>8571</td>\n",
              "      <td>8571 Mission Aviation Fellowship</td>\n",
              "      <td>0.161734</td>\n",
              "    </tr>\n",
              "  </tbody>\n",
              "</table>\n",
              "</div>\n",
              "      <button class=\"colab-df-convert\" onclick=\"convertToInteractive('df-8fc8eae1-eb24-486a-b03c-8446eb3a0f13')\"\n",
              "              title=\"Convert this dataframe to an interactive table.\"\n",
              "              style=\"display:none;\">\n",
              "        \n",
              "  <svg xmlns=\"http://www.w3.org/2000/svg\" height=\"24px\"viewBox=\"0 0 24 24\"\n",
              "       width=\"24px\">\n",
              "    <path d=\"M0 0h24v24H0V0z\" fill=\"none\"/>\n",
              "    <path d=\"M18.56 5.44l.94 2.06.94-2.06 2.06-.94-2.06-.94-.94-2.06-.94 2.06-2.06.94zm-11 1L8.5 8.5l.94-2.06 2.06-.94-2.06-.94L8.5 2.5l-.94 2.06-2.06.94zm10 10l.94 2.06.94-2.06 2.06-.94-2.06-.94-.94-2.06-.94 2.06-2.06.94z\"/><path d=\"M17.41 7.96l-1.37-1.37c-.4-.4-.92-.59-1.43-.59-.52 0-1.04.2-1.43.59L10.3 9.45l-7.72 7.72c-.78.78-.78 2.05 0 2.83L4 21.41c.39.39.9.59 1.41.59.51 0 1.02-.2 1.41-.59l7.78-7.78 2.81-2.81c.8-.78.8-2.07 0-2.86zM5.41 20L4 18.59l7.72-7.72 1.47 1.35L5.41 20z\"/>\n",
              "  </svg>\n",
              "      </button>\n",
              "      \n",
              "  <style>\n",
              "    .colab-df-container {\n",
              "      display:flex;\n",
              "      flex-wrap:wrap;\n",
              "      gap: 12px;\n",
              "    }\n",
              "\n",
              "    .colab-df-convert {\n",
              "      background-color: #E8F0FE;\n",
              "      border: none;\n",
              "      border-radius: 50%;\n",
              "      cursor: pointer;\n",
              "      display: none;\n",
              "      fill: #1967D2;\n",
              "      height: 32px;\n",
              "      padding: 0 0 0 0;\n",
              "      width: 32px;\n",
              "    }\n",
              "\n",
              "    .colab-df-convert:hover {\n",
              "      background-color: #E2EBFA;\n",
              "      box-shadow: 0px 1px 2px rgba(60, 64, 67, 0.3), 0px 1px 3px 1px rgba(60, 64, 67, 0.15);\n",
              "      fill: #174EA6;\n",
              "    }\n",
              "\n",
              "    [theme=dark] .colab-df-convert {\n",
              "      background-color: #3B4455;\n",
              "      fill: #D2E3FC;\n",
              "    }\n",
              "\n",
              "    [theme=dark] .colab-df-convert:hover {\n",
              "      background-color: #434B5C;\n",
              "      box-shadow: 0px 1px 3px 1px rgba(0, 0, 0, 0.15);\n",
              "      filter: drop-shadow(0px 1px 2px rgba(0, 0, 0, 0.3));\n",
              "      fill: #FFFFFF;\n",
              "    }\n",
              "  </style>\n",
              "\n",
              "      <script>\n",
              "        const buttonEl =\n",
              "          document.querySelector('#df-8fc8eae1-eb24-486a-b03c-8446eb3a0f13 button.colab-df-convert');\n",
              "        buttonEl.style.display =\n",
              "          google.colab.kernel.accessAllowed ? 'block' : 'none';\n",
              "\n",
              "        async function convertToInteractive(key) {\n",
              "          const element = document.querySelector('#df-8fc8eae1-eb24-486a-b03c-8446eb3a0f13');\n",
              "          const dataTable =\n",
              "            await google.colab.kernel.invokeFunction('convertToInteractive',\n",
              "                                                     [key], {});\n",
              "          if (!dataTable) return;\n",
              "\n",
              "          const docLinkHtml = 'Like what you see? Visit the ' +\n",
              "            '<a target=\"_blank\" href=https://colab.research.google.com/notebooks/data_table.ipynb>data table notebook</a>'\n",
              "            + ' to learn more about interactive tables.';\n",
              "          element.innerHTML = '';\n",
              "          dataTable['output_type'] = 'display_data';\n",
              "          await google.colab.output.renderOutput(dataTable, element);\n",
              "          const docLink = document.createElement('div');\n",
              "          docLink.innerHTML = docLinkHtml;\n",
              "          element.appendChild(docLink);\n",
              "        }\n",
              "      </script>\n",
              "    </div>\n",
              "  </div>\n",
              "  "
            ],
            "text/plain": [
              "   index                                   File_Name     Score\n",
              "0  10582  10582 Honors Degrees Do they mean anything  0.219261\n",
              "1   4032               4032 Players Rushed to Majors  0.218920\n",
              "2   1914                1914 Going permanent no mail  0.199359\n",
              "3   9601                     9601 Summer Internships  0.195624\n",
              "4   6067                        6067 The Kuebelwagen  0.191727\n",
              "5   6530                     6530 NCAA finals Winner  0.187054\n",
              "6   5345               5345 Graphics Library Package  0.178184\n",
              "7    435                    435 podiatry School info  0.171815\n",
              "8  10028                             10028 Afterlife  0.164677\n",
              "9   8571            8571 Mission Aviation Fellowship  0.161734"
            ]
          },
          "execution_count": null,
          "metadata": {},
          "output_type": "execute_result"
        }
      ],
      "source": [
        "SearchDocument('graduation year')"
      ]
    },
    {
      "cell_type": "code",
      "source": [
        "df_news.content[10582]"
      ],
      "metadata": {
        "colab": {
          "base_uri": "https://localhost:8080/",
          "height": 70
        },
        "id": "I_F1nVy8oG-O",
        "outputId": "296bfc10-ccf2-4e18-d7d4-548a7018b1fc"
      },
      "execution_count": null,
      "outputs": [
        {
          "data": {
            "application/vnd.google.colaboratory.intrinsic+json": {
              "type": "string"
            },
            "text/plain": [
              "'honors degrees do they mean anything purdue university engineering computer network i hear george bush remember him will receive an honors degree from some kuwaiti university for contributing to certain kuwaiti interests not too long ago. do you think it would add much to his resume'"
            ]
          },
          "execution_count": null,
          "metadata": {},
          "output_type": "execute_result"
        }
      ]
    },
    {
      "cell_type": "code",
      "source": [
        ""
      ],
      "metadata": {
        "id": "etRPj6joPOkJ"
      },
      "execution_count": null,
      "outputs": []
    }
  ],
  "metadata": {
    "kernelspec": {
      "display_name": "Python 3",
      "language": "python",
      "name": "python3"
    },
    "language_info": {
      "codemirror_mode": {
        "name": "ipython",
        "version": 3
      },
      "file_extension": ".py",
      "mimetype": "text/x-python",
      "name": "python",
      "nbconvert_exporter": "python",
      "pygments_lexer": "ipython3",
      "version": "3.7.6"
    },
    "colab": {
      "name": "Document Search Engine.ipynb",
      "provenance": [],
      "collapsed_sections": []
    }
  },
  "nbformat": 4,
  "nbformat_minor": 0
}