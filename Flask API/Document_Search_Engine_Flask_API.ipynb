{
  "nbformat": 4,
  "nbformat_minor": 0,
  "metadata": {
    "colab": {
      "name": "Document Search Engine - Flask API.ipynb",
      "provenance": [],
      "collapsed_sections": []
    },
    "kernelspec": {
      "name": "python3",
      "display_name": "Python 3"
    },
    "language_info": {
      "name": "python"
    }
  },
  "cells": [
    {
      "cell_type": "markdown",
      "source": [
        "# **Ghfra Jabour - Mohammad Nour Alawad**\n",
        "\n",
        "> IR Project - Document Search Engine FLASK API\n"
      ],
      "metadata": {
        "id": "oeW2Bq5ZR6wN"
      }
    },
    {
      "cell_type": "code",
      "source": [
        "!pip install flask_ngrok"
      ],
      "metadata": {
        "id": "3NXZmfzvBZFR"
      },
      "execution_count": null,
      "outputs": []
    },
    {
      "cell_type": "code",
      "source": [
        "import nltk\n",
        "nltk.download('punkt')\n",
        "nltk.download('wordnet')\n",
        "nltk.download('averaged_perceptron_tagger')\n",
        "nltk.download('stopwords')"
      ],
      "metadata": {
        "colab": {
          "base_uri": "https://localhost:8080/"
        },
        "id": "AciJFgdKBlNB",
        "outputId": "2384e5a5-22fa-45e5-aad0-35cc8f2e28f0"
      },
      "execution_count": 9,
      "outputs": [
        {
          "output_type": "stream",
          "name": "stdout",
          "text": [
            "[nltk_data] Downloading package punkt to /root/nltk_data...\n",
            "[nltk_data]   Unzipping tokenizers/punkt.zip.\n",
            "[nltk_data] Downloading package wordnet to /root/nltk_data...\n",
            "[nltk_data]   Unzipping corpora/wordnet.zip.\n",
            "[nltk_data] Downloading package averaged_perceptron_tagger to\n",
            "[nltk_data]     /root/nltk_data...\n",
            "[nltk_data]   Unzipping taggers/averaged_perceptron_tagger.zip.\n",
            "[nltk_data] Downloading package stopwords to /root/nltk_data...\n",
            "[nltk_data]   Unzipping corpora/stopwords.zip.\n"
          ]
        },
        {
          "output_type": "execute_result",
          "data": {
            "text/plain": [
              "True"
            ]
          },
          "metadata": {},
          "execution_count": 9
        }
      ]
    },
    {
      "cell_type": "code",
      "execution_count": null,
      "metadata": {
        "colab": {
          "base_uri": "https://localhost:8080/"
        },
        "id": "Q4a2YseF--oh",
        "outputId": "21f6a2a8-9970-489c-cc08-be46741320ff"
      },
      "outputs": [
        {
          "output_type": "stream",
          "name": "stdout",
          "text": [
            " * Serving Flask app \"__main__\" (lazy loading)\n",
            " * Environment: production\n",
            "\u001b[31m   WARNING: This is a development server. Do not use it in a production deployment.\u001b[0m\n",
            "\u001b[2m   Use a production WSGI server instead.\u001b[0m\n",
            " * Debug mode: off\n"
          ]
        },
        {
          "output_type": "stream",
          "name": "stderr",
          "text": [
            " * Running on http://127.0.0.1:5000/ (Press CTRL+C to quit)\n"
          ]
        },
        {
          "output_type": "stream",
          "name": "stdout",
          "text": [
            " * Running on http://bbee-35-196-135-18.ngrok.io\n",
            " * Traffic stats available on http://127.0.0.1:4040\n"
          ]
        },
        {
          "output_type": "stream",
          "name": "stderr",
          "text": [
            "[2022-03-12 21:41:50,961] ERROR in app: Exception on / [GET]\n",
            "Traceback (most recent call last):\n",
            "  File \"/usr/local/lib/python3.7/dist-packages/flask/app.py\", line 2447, in wsgi_app\n",
            "    response = self.full_dispatch_request()\n",
            "  File \"/usr/local/lib/python3.7/dist-packages/flask/app.py\", line 1952, in full_dispatch_request\n",
            "    rv = self.handle_user_exception(e)\n",
            "  File \"/usr/local/lib/python3.7/dist-packages/flask/app.py\", line 1821, in handle_user_exception\n",
            "    reraise(exc_type, exc_value, tb)\n",
            "  File \"/usr/local/lib/python3.7/dist-packages/flask/_compat.py\", line 39, in reraise\n",
            "    raise value\n",
            "  File \"/usr/local/lib/python3.7/dist-packages/flask/app.py\", line 1950, in full_dispatch_request\n",
            "    rv = self.dispatch_request()\n",
            "  File \"/usr/local/lib/python3.7/dist-packages/flask/app.py\", line 1936, in dispatch_request\n",
            "    return self.view_functions[rule.endpoint](**req.view_args)\n",
            "  File \"<ipython-input-12-d5aacb69e724>\", line 92, in DrugFind\n",
            "    \"\\W+\", \" \", query.lower()).strip()\n",
            "AttributeError: 'NoneType' object has no attribute 'lower'\n",
            "127.0.0.1 - - [12/Mar/2022 21:41:50] \"\u001b[35m\u001b[1mGET / HTTP/1.1\u001b[0m\" 500 -\n",
            "127.0.0.1 - - [12/Mar/2022 21:41:52] \"\u001b[33mGET /favicon.ico HTTP/1.1\u001b[0m\" 404 -\n",
            "[2022-03-12 21:46:13,307] ERROR in app: Exception on / [GET]\n",
            "Traceback (most recent call last):\n",
            "  File \"/usr/local/lib/python3.7/dist-packages/flask/app.py\", line 2447, in wsgi_app\n",
            "    response = self.full_dispatch_request()\n",
            "  File \"/usr/local/lib/python3.7/dist-packages/flask/app.py\", line 1952, in full_dispatch_request\n",
            "    rv = self.handle_user_exception(e)\n",
            "  File \"/usr/local/lib/python3.7/dist-packages/flask/app.py\", line 1821, in handle_user_exception\n",
            "    reraise(exc_type, exc_value, tb)\n",
            "  File \"/usr/local/lib/python3.7/dist-packages/flask/_compat.py\", line 39, in reraise\n",
            "    raise value\n",
            "  File \"/usr/local/lib/python3.7/dist-packages/flask/app.py\", line 1950, in full_dispatch_request\n",
            "    rv = self.dispatch_request()\n",
            "  File \"/usr/local/lib/python3.7/dist-packages/flask/app.py\", line 1936, in dispatch_request\n",
            "    return self.view_functions[rule.endpoint](**req.view_args)\n",
            "  File \"<ipython-input-12-d5aacb69e724>\", line 92, in DrugFind\n",
            "    \"\\W+\", \" \", query.lower()).strip()\n",
            "AttributeError: 'NoneType' object has no attribute 'lower'\n",
            "127.0.0.1 - - [12/Mar/2022 21:46:13] \"\u001b[35m\u001b[1mGET / HTTP/1.1\u001b[0m\" 500 -\n",
            "127.0.0.1 - - [12/Mar/2022 21:46:13] \"\u001b[33mGET /favicon.ico HTTP/1.1\u001b[0m\" 404 -\n",
            "127.0.0.1 - - [12/Mar/2022 21:48:08] \"\u001b[33mGET /search/computer HTTP/1.1\u001b[0m\" 404 -\n",
            "127.0.0.1 - - [12/Mar/2022 21:48:08] \"\u001b[33mGET /favicon.ico HTTP/1.1\u001b[0m\" 404 -\n",
            "127.0.0.1 - - [12/Mar/2022 21:48:45] \"\u001b[33mGET /favicon.ico HTTP/1.1\u001b[0m\" 404 -\n",
            "127.0.0.1 - - [12/Mar/2022 21:48:47] \"\u001b[33mGET /search/computer HTTP/1.1\u001b[0m\" 404 -\n",
            "127.0.0.1 - - [12/Mar/2022 21:48:47] \"\u001b[33mGET /favicon.ico HTTP/1.1\u001b[0m\" 404 -\n",
            "127.0.0.1 - - [12/Mar/2022 21:50:27] \"\u001b[33mGET /favicon.ico HTTP/1.1\u001b[0m\" 404 -\n",
            "127.0.0.1 - - [12/Mar/2022 21:50:32] \"\u001b[33mGET /search/ HTTP/1.1\u001b[0m\" 404 -\n",
            "127.0.0.1 - - [12/Mar/2022 21:50:32] \"\u001b[33mGET /favicon.ico HTTP/1.1\u001b[0m\" 404 -\n",
            "127.0.0.1 - - [12/Mar/2022 21:50:34] \"\u001b[33mGET /search HTTP/1.1\u001b[0m\" 404 -\n",
            "127.0.0.1 - - [12/Mar/2022 21:50:34] \"\u001b[33mGET /favicon.ico HTTP/1.1\u001b[0m\" 404 -\n",
            "127.0.0.1 - - [12/Mar/2022 21:50:54] \"\u001b[33mGET /search HTTP/1.1\u001b[0m\" 404 -\n",
            "127.0.0.1 - - [12/Mar/2022 21:50:54] \"\u001b[33mGET /favicon.ico HTTP/1.1\u001b[0m\" 404 -\n",
            "127.0.0.1 - - [12/Mar/2022 21:51:16] \"\u001b[37mGET /?query=search HTTP/1.1\u001b[0m\" 200 -\n",
            "127.0.0.1 - - [12/Mar/2022 21:51:18] \"\u001b[33mGET /favicon.ico HTTP/1.1\u001b[0m\" 404 -\n",
            "127.0.0.1 - - [12/Mar/2022 21:51:35] \"\u001b[37mGET /?query=computer HTTP/1.1\u001b[0m\" 200 -\n",
            "127.0.0.1 - - [12/Mar/2022 21:51:35] \"\u001b[33mGET /favicon.ico HTTP/1.1\u001b[0m\" 404 -\n",
            "/usr/local/lib/python3.7/dist-packages/ipykernel_launcher.py:76: RuntimeWarning: invalid value encountered in double_scalars\n",
            "127.0.0.1 - - [12/Mar/2022 21:51:53] \"\u001b[37mGET /?query=hiast HTTP/1.1\u001b[0m\" 200 -\n",
            "127.0.0.1 - - [12/Mar/2022 21:51:53] \"\u001b[33mGET /favicon.ico HTTP/1.1\u001b[0m\" 404 -\n",
            "127.0.0.1 - - [12/Mar/2022 21:52:03] \"\u001b[33mGET /favicon.ico HTTP/1.1\u001b[0m\" 404 -\n",
            "127.0.0.1 - - [12/Mar/2022 21:52:06] \"\u001b[33mGET /favicon.ico HTTP/1.1\u001b[0m\" 404 -\n",
            "127.0.0.1 - - [12/Mar/2022 21:52:18] \"\u001b[37mGET /?query=book HTTP/1.1\u001b[0m\" 200 -\n",
            "127.0.0.1 - - [12/Mar/2022 21:52:18] \"\u001b[33mGET /favicon.ico HTTP/1.1\u001b[0m\" 404 -\n",
            "127.0.0.1 - - [12/Mar/2022 21:52:23] \"\u001b[33mGET /favicon.ico HTTP/1.1\u001b[0m\" 404 -\n",
            "127.0.0.1 - - [12/Mar/2022 21:52:35] \"\u001b[37mGET /?query=computer%science HTTP/1.1\u001b[0m\" 200 -\n",
            "127.0.0.1 - - [12/Mar/2022 21:52:35] \"\u001b[33mGET /favicon.ico HTTP/1.1\u001b[0m\" 404 -\n",
            "127.0.0.1 - - [12/Mar/2022 21:55:02] \"\u001b[37mGET /?query=computer\\science HTTP/1.1\u001b[0m\" 200 -\n",
            "127.0.0.1 - - [12/Mar/2022 21:55:03] \"\u001b[33mGET /favicon.ico HTTP/1.1\u001b[0m\" 404 -\n",
            "127.0.0.1 - - [12/Mar/2022 21:55:20] \"\u001b[37mGET /?query=\\science HTTP/1.1\u001b[0m\" 200 -\n",
            "127.0.0.1 - - [12/Mar/2022 21:55:20] \"\u001b[33mGET /favicon.ico HTTP/1.1\u001b[0m\" 404 -\n",
            "127.0.0.1 - - [12/Mar/2022 21:55:35] \"\u001b[37mGET /?query=computer\\science HTTP/1.1\u001b[0m\" 200 -\n",
            "127.0.0.1 - - [12/Mar/2022 21:55:36] \"\u001b[33mGET /favicon.ico HTTP/1.1\u001b[0m\" 404 -\n",
            "127.0.0.1 - - [12/Mar/2022 21:55:53] \"\u001b[37mGET /?query=Rawlins\\debunks HTTP/1.1\u001b[0m\" 200 -\n",
            "127.0.0.1 - - [12/Mar/2022 21:55:53] \"\u001b[33mGET /favicon.ico HTTP/1.1\u001b[0m\" 404 -\n",
            "127.0.0.1 - - [12/Mar/2022 21:56:07] \"\u001b[37mGET /?query=\\debunks\\Rawlins HTTP/1.1\u001b[0m\" 200 -\n",
            "127.0.0.1 - - [12/Mar/2022 21:56:08] \"\u001b[33mGET /favicon.ico HTTP/1.1\u001b[0m\" 404 -\n",
            "127.0.0.1 - - [12/Mar/2022 21:56:28] \"\u001b[37mGET /?query=graduation%20year HTTP/1.1\u001b[0m\" 200 -\n",
            "127.0.0.1 - - [12/Mar/2022 21:56:28] \"\u001b[33mGET /favicon.ico HTTP/1.1\u001b[0m\" 404 -\n",
            "127.0.0.1 - - [12/Mar/2022 21:56:43] \"\u001b[37mGET /?query=graduation%year HTTP/1.1\u001b[0m\" 200 -\n",
            "127.0.0.1 - - [12/Mar/2022 21:56:44] \"\u001b[33mGET /favicon.ico HTTP/1.1\u001b[0m\" 404 -\n",
            "127.0.0.1 - - [12/Mar/2022 21:56:52] \"\u001b[37mGET /?query=graduation\\year HTTP/1.1\u001b[0m\" 200 -\n",
            "127.0.0.1 - - [12/Mar/2022 21:56:52] \"\u001b[33mGET /favicon.ico HTTP/1.1\u001b[0m\" 404 -\n",
            "127.0.0.1 - - [12/Mar/2022 21:57:16] \"\u001b[37mGET /?query=computer%science HTTP/1.1\u001b[0m\" 200 -\n",
            "127.0.0.1 - - [12/Mar/2022 21:57:16] \"\u001b[33mGET /favicon.ico HTTP/1.1\u001b[0m\" 404 -\n",
            "127.0.0.1 - - [12/Mar/2022 22:03:11] \"\u001b[37mGET /?query=computer%science HTTP/1.1\u001b[0m\" 200 -\n",
            "127.0.0.1 - - [12/Mar/2022 22:03:34] \"\u001b[37mGET /?query=computer%25science HTTP/1.1\u001b[0m\" 200 -\n",
            "127.0.0.1 - - [12/Mar/2022 22:03:34] \"\u001b[33mGET /favicon.ico HTTP/1.1\u001b[0m\" 404 -\n",
            "/usr/local/lib/python3.7/dist-packages/ipykernel_launcher.py:76: RuntimeWarning: invalid value encountered in double_scalars\n",
            "127.0.0.1 - - [12/Mar/2022 22:03:51] \"\u001b[37mGET /?query=unjiversity HTTP/1.1\u001b[0m\" 200 -\n",
            "127.0.0.1 - - [12/Mar/2022 22:03:52] \"\u001b[33mGET /favicon.ico HTTP/1.1\u001b[0m\" 404 -\n",
            "127.0.0.1 - - [12/Mar/2022 22:04:02] \"\u001b[37mGET /?query=university HTTP/1.1\u001b[0m\" 200 -\n",
            "127.0.0.1 - - [12/Mar/2022 22:04:02] \"\u001b[33mGET /favicon.ico HTTP/1.1\u001b[0m\" 404 -\n",
            "127.0.0.1 - - [12/Mar/2022 22:04:43] \"\u001b[37mGET /?query=university HTTP/1.1\u001b[0m\" 200 -\n",
            "127.0.0.1 - - [12/Mar/2022 22:04:44] \"\u001b[33mGET /favicon.ico HTTP/1.1\u001b[0m\" 404 -\n",
            "127.0.0.1 - - [12/Mar/2022 22:04:52] \"\u001b[37mGET /?query=university*k HTTP/1.1\u001b[0m\" 200 -\n",
            "127.0.0.1 - - [12/Mar/2022 22:04:53] \"\u001b[33mGET /favicon.ico HTTP/1.1\u001b[0m\" 404 -\n",
            "/usr/local/lib/python3.7/dist-packages/ipykernel_launcher.py:76: RuntimeWarning: invalid value encountered in double_scalars\n",
            "127.0.0.1 - - [12/Mar/2022 22:04:59] \"\u001b[37mGET /?query=universityk HTTP/1.1\u001b[0m\" 200 -\n",
            "127.0.0.1 - - [12/Mar/2022 22:04:59] \"\u001b[33mGET /favicon.ico HTTP/1.1\u001b[0m\" 404 -\n"
          ]
        }
      ],
      "source": [
        "import pandas as pd\n",
        "import numpy as np\n",
        "import os\n",
        "import re\n",
        "import operator\n",
        "import nltk\n",
        "import pickle\n",
        "from nltk.tokenize import word_tokenize\n",
        "from nltk import pos_tag\n",
        "from nltk.corpus import stopwords\n",
        "from nltk.stem import WordNetLemmatizer\n",
        "from collections import defaultdict\n",
        "from nltk.corpus import wordnet as wn\n",
        "from sklearn.feature_extraction.text import TfidfVectorizer\n",
        "import flask\n",
        "from flask_ngrok import run_with_ngrok\n",
        "from flask import Flask, render_template , request \n",
        "import pickle\n",
        "import json\n",
        "\n",
        "app = flask.Flask(__name__)\n",
        "run_with_ngrok(app)\n",
        "#-------- MODEL GOES HERE -----------#\n",
        "\n",
        "df_news = pd.read_csv('df_news_index.csv')\n",
        "with open(\"vocabulary_news20group.txt\", \"r\") as file:\n",
        "    vocabulary = eval(file.readline())\n",
        "\n",
        "Tfidmodel =pickle.load(\n",
        "    open('tfid.pkl', 'rb'))\n",
        "traineddata = Tfidmodel.A #np.float16(Tfidmodel.A)\n",
        "\n",
        "\n",
        "\n",
        "def wordLemmatizer(data):\n",
        "    tag_map = defaultdict(lambda: wn.NOUN)\n",
        "    tag_map['J'] = wn.ADJ\n",
        "    tag_map['V'] = wn.VERB\n",
        "    tag_map['R'] = wn.ADV\n",
        "    file_clean_k = pd.DataFrame()\n",
        "    for index, entry in enumerate(data):\n",
        "\n",
        "        # Declaring Empty List to store the words that follow the rules for this step\n",
        "        Final_words = []\n",
        "        # Initializing WordNetLemmatizer()\n",
        "        word_Lemmatized = WordNetLemmatizer()\n",
        "        # pos_tag function below will provide the 'tag' i.e if the word is Noun(N) or Verb(V) or something else.\n",
        "        for word, tag in pos_tag(entry):\n",
        "            # Below condition is to check for Stop words and consider only alphabets\n",
        "            if len(word) > 1 and word not in stopwords.words('english') and word.isalpha():\n",
        "                word_Final = word_Lemmatized.lemmatize(word, tag_map[tag[0]])\n",
        "                Final_words.append(word_Final)\n",
        "            # The final processed set of words for each iteration will be stored in 'text_final'\n",
        "                file_clean_k.loc[index, 'Keyword_final'] = str(Final_words)\n",
        "                file_clean_k.loc[index, 'Keyword_final'] = str(Final_words)\n",
        "                \n",
        "    return file_clean_k\n",
        "\n",
        "## Create vector for Query/search keywords\n",
        "\n",
        "\n",
        "def gen_vector_T(tokens, tfidf):\n",
        "    Q = np.zeros((len(vocabulary))) \n",
        "    x = tfidf.transform(tokens)\n",
        "    for token in tokens[0].split(','):\n",
        "        try:\n",
        "            ind = vocabulary.index(token)\n",
        "            Q[ind] = x[0, tfidf.vocabulary_[token]]\n",
        "        except:\n",
        "            pass\n",
        "    return Q\n",
        "\n",
        "\n",
        "def cosine_sim(a, b):\n",
        "    cos_sim = np.dot(a, b)/(np.linalg.norm(a)*np.linalg.norm(b))\n",
        "    return cos_sim\n",
        "\n",
        "\n",
        "#-------- ROUTES GO HERE -----------#\n",
        "@app.route('/', methods=[\"GET\"])\n",
        "def DrugFind():\n",
        "    # embed the query for calcluating the similarity\n",
        "    \n",
        "    query = flask.request.args.get('query')\n",
        "    #print(query)\n",
        "    \n",
        "    preprocessed_query = preprocessed_query = re.sub(\n",
        "        \"\\W+\", \" \", query.lower()).strip()\n",
        "    tokens = word_tokenize(str(preprocessed_query))\n",
        "    q_df = pd.DataFrame(columns=['q_clean'])\n",
        "    q_df.loc[0, 'q_clean'] = tokens\n",
        "    \n",
        "    q_df['q_clean'] = wordLemmatizer(q_df.q_clean)\n",
        "    q_df = q_df.replace(to_replace=\"'\", value='', regex=True)\n",
        "    q_df = q_df.replace(to_replace=\"\\[\", value='', regex=True)\n",
        "    q_df = q_df.replace(to_replace=\" \", value='', regex=True)\n",
        "    q_df = q_df.replace(to_replace='\\]', value='', regex=True)\n",
        "\n",
        "    d_cosines = []\n",
        "    tfidf = TfidfVectorizer(vocabulary=vocabulary , dtype=np.float32)\n",
        "    tfidf.fit(q_df['q_clean'])\n",
        "    query_vector = gen_vector_T(q_df['q_clean'], tfidf)\n",
        "    #query_vector = np.float16(query_vector)\n",
        "    for d in traineddata:\n",
        "        d_cosines.append(cosine_sim(query_vector, d))\n",
        "\n",
        "    out = np.array(d_cosines).argsort()[-10:][::-1]\n",
        "    d_cosines.sort()\n",
        "\n",
        "    a = pd.DataFrame()\n",
        "    for i, index in enumerate(out):\n",
        "        a.loc[i, 'Subject'] = df_news['Subject'][index]\n",
        "\n",
        "    for j, simScore in enumerate(d_cosines[-10:][::-1]):\n",
        "        a.loc[j, 'Score'] = simScore\n",
        "        \n",
        "    a = a.sort_values(by='Score', ascending=False)\n",
        "    js = a.to_json(orient='index')\n",
        "    js =js.replace('[', '').replace(']', '')\n",
        "    ls = js.split('},')\n",
        "\n",
        "    l = [re.sub(r'\\\"[0-9]\\\":', '', l) for l in ls]\n",
        "    l[0] = re.sub(r'^{{1}', '', l[0])      \n",
        "    l = [re.sub(r'^,{1}', '', l) for l in l]\n",
        "    l = [ls+'}' for ls in l]\n",
        "    l[9] = l[9].replace('}}', '')\n",
        "    lsDrug =[]\n",
        "    for txt in l:\n",
        "        tx =json.loads(txt)\n",
        "        lsDrug.append(tx)\n",
        "    # response = app.response_class(\n",
        "    #     response=json.dumps(lsDrug),\n",
        "    #     status=200,\n",
        "    #     mimetype='application/json'\n",
        "    # )\n",
        "    return flask.jsonify(lsDrug) \n",
        "\n",
        "\n",
        "if __name__ == '__main__':\n",
        "    'Connects to the server'\n",
        "    # HOST = '127.0.0.1'\n",
        "    # PORT = 5000      #make sure this is an integer\n",
        "\n",
        "    # export FLASK_ENV=development\n",
        "    app.run()"
      ]
    },
    {
      "cell_type": "code",
      "source": [
        ""
      ],
      "metadata": {
        "id": "iRix4UMj-_mV"
      },
      "execution_count": null,
      "outputs": []
    }
  ]
}